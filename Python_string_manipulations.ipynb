{
 "cells": [
  {
   "cell_type": "code",
   "execution_count": 1,
   "metadata": {
    "collapsed": true
   },
   "outputs": [],
   "source": [
    "from IPython.display import display\n",
    "import re"
   ]
  },
  {
   "cell_type": "markdown",
   "metadata": {
    "collapsed": true
   },
   "source": [
    "<h1>Basic manipulations</h1>"
   ]
  },
  {
   "cell_type": "code",
   "execution_count": 5,
   "metadata": {
    "collapsed": false
   },
   "outputs": [
    {
     "name": "stdout",
     "output_type": "stream",
     "text": [
      "['fg,f', 'gfhfghr,f', 'd,gdg', 'd']\n",
      "['fg', 'f gfhfghr', 'f d', 'gdg d']\n"
     ]
    }
   ],
   "source": [
    "# Splitting\n",
    "str1 = 'fg,f gfhfghr,f d,gdg d'\n",
    "print(str1.split())\n",
    "print(str1.split(','))"
   ]
  },
  {
   "cell_type": "markdown",
   "metadata": {},
   "source": [
    "<h1>Regular expressions</h1>"
   ]
  },
  {
   "cell_type": "markdown",
   "metadata": {
    "collapsed": false
   },
   "source": [
    "<i>re</i> module has three categories: pattern matching, substitution, and splitting"
   ]
  },
  {
   "cell_type": "code",
   "execution_count": 29,
   "metadata": {
    "collapsed": false
   },
   "outputs": [
    {
     "name": "stdout",
     "output_type": "stream",
     "text": [
      "False\n"
     ]
    }
   ],
   "source": [
    "str1 = '0    Montevallo (University of Montevallo)[2]'\n",
    "\n",
    "# Find if contains brakcet\n",
    "pattern = re.compile('\\}')\n",
    "ff = pattern.findall(str1)\n",
    "gg = pattern.search(str1)\n",
    "\n",
    "if gg:\n",
    "    print('True')\n",
    "else:\n",
    "    print('False')"
   ]
  },
  {
   "cell_type": "code",
   "execution_count": 47,
   "metadata": {
    "collapsed": false
   },
   "outputs": [
    {
     "name": "stdout",
     "output_type": "stream",
     "text": [
      "a@b\n",
      "a@bcde\n"
     ]
    }
   ],
   "source": [
    "# Get everython in the string before certain character (here '.')\n",
    "# If character not found, then get whole string\n",
    "str1 = 'a@b.c.d.e'\n",
    "str2 = 'a@bcde'\n",
    "\n",
    "regex1 = re.compile(r\"^([^.]*).*\")\n",
    "\n",
    "print(re.search(regex1, str1).group(1))\n",
    "print(re.search(regex1, str2).group(1))\n",
    "\n"
   ]
  },
  {
   "cell_type": "code",
   "execution_count": 4,
   "metadata": {
    "collapsed": false
   },
   "outputs": [
    {
     "name": "stdout",
     "output_type": "stream",
     "text": [
      "hello  apple\n",
      "helloapple\n",
      "hello apple\n"
     ]
    }
   ],
   "source": [
    "# Stripping whitespaces\n",
    "sentence = ' hello  apple '\n",
    "\n",
    "print(sentence.strip()) # leading and trailing whitespaces\n",
    "print(sentence.replace(\" \", \"\")) # all whitespaces\n",
    "print(re.sub( '\\s+', ' ', sentence).strip()) # replace multiple whitespaces with one\n"
   ]
  },
  {
   "cell_type": "code",
   "execution_count": 5,
   "metadata": {
    "collapsed": false
   },
   "outputs": [
    {
     "name": "stdout",
     "output_type": "stream",
     "text": [
      "This is a sentence\n"
     ]
    }
   ],
   "source": [
    "# Remove stuff between some tags (does not work with nested!)\n",
    "string  = 'This is a <stupid> sentence'\n",
    "match = re.compile('[\\<].*?[\\>]')\n",
    "string = match.sub('',string)\n",
    "print(re.sub( '\\s+', ' ', string).strip())"
   ]
  },
  {
   "cell_type": "code",
   "execution_count": 6,
   "metadata": {
    "collapsed": false
   },
   "outputs": [
    {
     "data": {
      "text/plain": [
       "'Some string with number that are immportant: 22, 44, 66'"
      ]
     },
     "execution_count": 6,
     "metadata": {},
     "output_type": "execute_result"
    }
   ],
   "source": [
    "# Remove certain character\n",
    "string = 'Some string with \"number that are immportant: 22, 44, \"66'\n",
    "string.replace('\"', '')\n"
   ]
  },
  {
   "cell_type": "code",
   "execution_count": null,
   "metadata": {
    "collapsed": true
   },
   "outputs": [],
   "source": []
  }
 ],
 "metadata": {
  "kernelspec": {
   "display_name": "Python 3",
   "language": "python",
   "name": "python3"
  },
  "language_info": {
   "codemirror_mode": {
    "name": "ipython",
    "version": 3
   },
   "file_extension": ".py",
   "mimetype": "text/x-python",
   "name": "python",
   "nbconvert_exporter": "python",
   "pygments_lexer": "ipython3",
   "version": "3.6.0"
  }
 },
 "nbformat": 4,
 "nbformat_minor": 2
}
