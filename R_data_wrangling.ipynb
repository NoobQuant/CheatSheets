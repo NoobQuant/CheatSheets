{
 "cells": [
  {
   "cell_type": "markdown",
   "metadata": {},
   "source": [
    "# General information"
   ]
  },
  {
   "cell_type": "markdown",
   "metadata": {},
   "source": [
    "<i>'No BS, just essential R data wrangling!'</i> \n",
    "\n",
    "This is a cheat sheet to data wrangling with R. Inspired by my cheat sheet for Python pandas, the aim is to cover essential tips and tricks for data work flow. Each topic is featured with a minimal working example. The cheat sheet is work in progress, meaning that all suggestions for improvements are welcome!"
   ]
  },
  {
   "cell_type": "markdown",
   "metadata": {
    "toc": true
   },
   "source": [
    "<h1>Table of Contents<span class=\"tocSkip\"></span></h1>\n",
    "<div class=\"toc\" style=\"margin-top: 1em;\"><ul class=\"toc-item\"><li><span><a href=\"#General-information\" data-toc-modified-id=\"General-information-1\"><span class=\"toc-item-num\">1&nbsp;&nbsp;</span>General information</a></span></li><li><span><a href=\"#Basic-data-frame-operations\" data-toc-modified-id=\"Basic-data-frame-operations-2\"><span class=\"toc-item-num\">2&nbsp;&nbsp;</span>Basic data frame operations</a></span><ul class=\"toc-item\"><li><span><a href=\"#Modifgyin-data-frame\" data-toc-modified-id=\"Modifgyin-data-frame-2.1\"><span class=\"toc-item-num\">2.1&nbsp;&nbsp;</span>Modifgyin data frame</a></span></li><li><span><a href=\"#Slicing-data-frame\" data-toc-modified-id=\"Slicing-data-frame-2.2\"><span class=\"toc-item-num\">2.2&nbsp;&nbsp;</span>Slicing data frame</a></span></li></ul></li><li><span><a href=\"#Data-cleaning\" data-toc-modified-id=\"Data-cleaning-3\"><span class=\"toc-item-num\">3&nbsp;&nbsp;</span>Data cleaning</a></span></li></ul></div>"
   ]
  },
  {
   "cell_type": "markdown",
   "metadata": {},
   "source": [
    "# Basic data frame operations"
   ]
  },
  {
   "cell_type": "markdown",
   "metadata": {},
   "source": [
    "## Modifgyin data frame"
   ]
  },
  {
   "cell_type": "markdown",
   "metadata": {},
   "source": [
    "## Slicing data frame"
   ]
  },
  {
   "cell_type": "markdown",
   "metadata": {},
   "source": [
    "# Data cleaning"
   ]
  },
  {
   "cell_type": "code",
   "execution_count": null,
   "metadata": {},
   "outputs": [],
   "source": []
  }
 ],
 "metadata": {
  "kernelspec": {
   "display_name": "R [conda env:mro_env]",
   "language": "R",
   "name": "conda-env-mro_env-r"
  },
  "language_info": {
   "codemirror_mode": "r",
   "file_extension": ".r",
   "mimetype": "text/x-r-source",
   "name": "R",
   "pygments_lexer": "r",
   "version": "3.4.3"
  },
  "toc": {
   "nav_menu": {},
   "number_sections": true,
   "sideBar": true,
   "skip_h1_title": false,
   "toc_cell": true,
   "toc_position": {
    "height": "862px",
    "left": "0px",
    "right": "1569px",
    "top": "110px",
    "width": "334px"
   },
   "toc_section_display": "block",
   "toc_window_display": true
  }
 },
 "nbformat": 4,
 "nbformat_minor": 2
}
