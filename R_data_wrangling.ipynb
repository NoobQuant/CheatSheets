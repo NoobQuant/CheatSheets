{
 "cells": [
  {
   "cell_type": "markdown",
   "metadata": {},
   "source": [
    "# General information"
   ]
  },
  {
   "cell_type": "markdown",
   "metadata": {},
   "source": [
    "<i>'No BS, just essential R data wrangling!'</i> \n",
    "\n",
    "This is a cheat sheet to data wrangling with R. Inspired by my cheat sheet for Python pandas, the aim is to cover essential tips and tricks for data work flow. Each topic is featured with a minimal working example. The cheat sheet is work in progress, meaning that all suggestions for improvements are welcome!"
   ]
  },
  {
   "cell_type": "markdown",
   "metadata": {
    "toc": true
   },
   "source": [
    "<h1>Table of Contents<span class=\"tocSkip\"></span></h1>\n",
    "<div class=\"toc\" style=\"margin-top: 1em;\"><ul class=\"toc-item\"><li><span><a href=\"#General-information\" data-toc-modified-id=\"General-information-1\"><span class=\"toc-item-num\">1&nbsp;&nbsp;</span>General information</a></span></li><li><span><a href=\"#Input/output-data\" data-toc-modified-id=\"Input/output-data-2\"><span class=\"toc-item-num\">2&nbsp;&nbsp;</span>Input/output data</a></span><ul class=\"toc-item\"><li><span><a href=\"#Excel\" data-toc-modified-id=\"Excel-2.1\"><span class=\"toc-item-num\">2.1&nbsp;&nbsp;</span>Excel</a></span></li><li><span><a href=\"#csv\" data-toc-modified-id=\"csv-2.2\"><span class=\"toc-item-num\">2.2&nbsp;&nbsp;</span>csv</a></span><ul class=\"toc-item\"><li><span><a href=\"#Import\" data-toc-modified-id=\"Import-2.2.1\"><span class=\"toc-item-num\">2.2.1&nbsp;&nbsp;</span>Import</a></span></li></ul></li><li><span><a href=\"#SQL\" data-toc-modified-id=\"SQL-2.3\"><span class=\"toc-item-num\">2.3&nbsp;&nbsp;</span>SQL</a></span></li></ul></li><li><span><a href=\"#Basic-data-frame-operations\" data-toc-modified-id=\"Basic-data-frame-operations-3\"><span class=\"toc-item-num\">3&nbsp;&nbsp;</span>Basic data frame operations</a></span><ul class=\"toc-item\"><li><span><a href=\"#DataFrame-initialization\" data-toc-modified-id=\"DataFrame-initialization-3.1\"><span class=\"toc-item-num\">3.1&nbsp;&nbsp;</span>DataFrame initialization</a></span></li><li><span><a href=\"#Modifying-data-frame\" data-toc-modified-id=\"Modifying-data-frame-3.2\"><span class=\"toc-item-num\">3.2&nbsp;&nbsp;</span>Modifying data frame</a></span><ul class=\"toc-item\"><li><span><a href=\"#Changing-data-types\" data-toc-modified-id=\"Changing-data-types-3.2.1\"><span class=\"toc-item-num\">3.2.1&nbsp;&nbsp;</span>Changing data types</a></span></li><li><span><a href=\"#Dropping-from-DataFrame\" data-toc-modified-id=\"Dropping-from-DataFrame-3.2.2\"><span class=\"toc-item-num\">3.2.2&nbsp;&nbsp;</span>Dropping from DataFrame</a></span></li></ul></li><li><span><a href=\"#Altering-DataFrame-values\" data-toc-modified-id=\"Altering-DataFrame-values-3.3\"><span class=\"toc-item-num\">3.3&nbsp;&nbsp;</span>Altering DataFrame values</a></span></li><li><span><a href=\"#Slicing-data-frame\" data-toc-modified-id=\"Slicing-data-frame-3.4\"><span class=\"toc-item-num\">3.4&nbsp;&nbsp;</span>Slicing data frame</a></span><ul class=\"toc-item\"><li><span><a href=\"#Basic-slicing\" data-toc-modified-id=\"Basic-slicing-3.4.1\"><span class=\"toc-item-num\">3.4.1&nbsp;&nbsp;</span>Basic slicing</a></span></li><li><span><a href=\"#Boolean-masking\" data-toc-modified-id=\"Boolean-masking-3.4.2\"><span class=\"toc-item-num\">3.4.2&nbsp;&nbsp;</span>Boolean masking</a></span></li></ul></li></ul></li><li><span><a href=\"#Data-cleaning\" data-toc-modified-id=\"Data-cleaning-4\"><span class=\"toc-item-num\">4&nbsp;&nbsp;</span>Data cleaning</a></span></li><li><span><a href=\"#Data-wrangling-tricks\" data-toc-modified-id=\"Data-wrangling-tricks-5\"><span class=\"toc-item-num\">5&nbsp;&nbsp;</span>Data wrangling tricks</a></span></li><li><span><a href=\"#Data-cleaning\" data-toc-modified-id=\"Data-cleaning-6\"><span class=\"toc-item-num\">6&nbsp;&nbsp;</span>Data cleaning</a></span><ul class=\"toc-item\"><li><span><a href=\"#Find-NA-values\" data-toc-modified-id=\"Find-NA-values-6.1\"><span class=\"toc-item-num\">6.1&nbsp;&nbsp;</span>Find NA values</a></span></li><li><span><a href=\"#Clean-NaN-values\" data-toc-modified-id=\"Clean-NaN-values-6.2\"><span class=\"toc-item-num\">6.2&nbsp;&nbsp;</span>Clean NaN values</a></span></li></ul></li><li><span><a href=\"#Unsorted\" data-toc-modified-id=\"Unsorted-7\"><span class=\"toc-item-num\">7&nbsp;&nbsp;</span>Unsorted</a></span></li></ul></div>"
   ]
  },
  {
   "cell_type": "code",
   "execution_count": null,
   "metadata": {},
   "outputs": [],
   "source": []
  },
  {
   "cell_type": "markdown",
   "metadata": {},
   "source": [
    "# Input/output data"
   ]
  },
  {
   "cell_type": "markdown",
   "metadata": {},
   "source": [
    "## Excel"
   ]
  },
  {
   "cell_type": "markdown",
   "metadata": {},
   "source": [
    "## csv"
   ]
  },
  {
   "cell_type": "markdown",
   "metadata": {},
   "source": [
    "### Import"
   ]
  },
  {
   "cell_type": "code",
   "execution_count": 2,
   "metadata": {},
   "outputs": [],
   "source": [
    "#df = read.csv(file=\"my/path/file.csv\", header=TRUE, sep=\",\")"
   ]
  },
  {
   "cell_type": "markdown",
   "metadata": {},
   "source": [
    "## SQL"
   ]
  },
  {
   "cell_type": "markdown",
   "metadata": {},
   "source": [
    "# Basic data frame operations"
   ]
  },
  {
   "cell_type": "markdown",
   "metadata": {},
   "source": [
    "## DataFrame initialization"
   ]
  },
  {
   "cell_type": "code",
   "execution_count": 76,
   "metadata": {},
   "outputs": [
    {
     "data": {
      "text/html": [
       "<table>\n",
       "<thead><tr><th></th><th scope=col>x</th><th scope=col>z</th></tr></thead>\n",
       "<tbody>\n",
       "\t<tr><th scope=row>5</th><td>1</td><td>5</td></tr>\n",
       "\t<tr><th scope=row>4</th><td>2</td><td>5</td></tr>\n",
       "\t<tr><th scope=row>3</th><td>3</td><td>5</td></tr>\n",
       "\t<tr><th scope=row>2</th><td>4</td><td>5</td></tr>\n",
       "\t<tr><th scope=row>1</th><td>5</td><td>5</td></tr>\n",
       "</tbody>\n",
       "</table>\n"
      ],
      "text/latex": [
       "\\begin{tabular}{r|ll}\n",
       "  & x & z\\\\\n",
       "\\hline\n",
       "\t5 & 1 & 5\\\\\n",
       "\t4 & 2 & 5\\\\\n",
       "\t3 & 3 & 5\\\\\n",
       "\t2 & 4 & 5\\\\\n",
       "\t1 & 5 & 5\\\\\n",
       "\\end{tabular}\n"
      ],
      "text/markdown": [
       "\n",
       "| <!--/--> | x | z | \n",
       "|---|---|---|---|---|\n",
       "| 5 | 1 | 5 | \n",
       "| 4 | 2 | 5 | \n",
       "| 3 | 3 | 5 | \n",
       "| 2 | 4 | 5 | \n",
       "| 1 | 5 | 5 | \n",
       "\n",
       "\n"
      ],
      "text/plain": [
       "  x z\n",
       "5 1 5\n",
       "4 2 5\n",
       "3 3 5\n",
       "2 4 5\n",
       "1 5 5"
      ]
     },
     "metadata": {},
     "output_type": "display_data"
    }
   ],
   "source": [
    "df = data.frame(x=1:5,y=5:1,z=rep(5,5))\n",
    "\n",
    "# Set one of the columns as index and remove that column\n",
    "rownames(df) = df$y; df=df[,!(names(df) %in% c(\"y\"))]\n",
    "\n",
    "# Re-setting index\n",
    "df2 = cbind(df)\n",
    "rownames(df2) = NULL\n",
    "\n",
    "# Set index to some sequence\n",
    "df3 = cbind(df)\n",
    "rownames(df3) = 1:dim(df)[1]\n",
    "\n",
    "df"
   ]
  },
  {
   "cell_type": "markdown",
   "metadata": {},
   "source": [
    "## Modifying data frame"
   ]
  },
  {
   "cell_type": "markdown",
   "metadata": {},
   "source": [
    "### Changing data types"
   ]
  },
  {
   "cell_type": "code",
   "execution_count": 27,
   "metadata": {},
   "outputs": [
    {
     "data": {
      "text/html": [
       "'integer'"
      ],
      "text/latex": [
       "'integer'"
      ],
      "text/markdown": [
       "'integer'"
      ],
      "text/plain": [
       "[1] \"integer\""
      ]
     },
     "metadata": {},
     "output_type": "display_data"
    }
   ],
   "source": [
    "df = data.frame(x=1:5,y=rep('fg',5),z=factor(c(1,3,2,3,1), levels=c(1,2,3)))\n",
    "\n",
    "typeof(df[['z']])\n",
    "\n"
   ]
  },
  {
   "cell_type": "markdown",
   "metadata": {},
   "source": [
    "### Dropping from DataFrame"
   ]
  },
  {
   "cell_type": "code",
   "execution_count": 80,
   "metadata": {},
   "outputs": [
    {
     "data": {
      "text/html": [
       "<table>\n",
       "<thead><tr><th></th><th scope=col>x</th><th scope=col>y</th><th scope=col>z</th></tr></thead>\n",
       "<tbody>\n",
       "\t<tr><th scope=row>1</th><td>1</td><td>5</td><td>5</td></tr>\n",
       "\t<tr><th scope=row>3</th><td>3</td><td>3</td><td>5</td></tr>\n",
       "\t<tr><th scope=row>4</th><td>4</td><td>2</td><td>5</td></tr>\n",
       "</tbody>\n",
       "</table>\n"
      ],
      "text/latex": [
       "\\begin{tabular}{r|lll}\n",
       "  & x & y & z\\\\\n",
       "\\hline\n",
       "\t1 & 1 & 5 & 5\\\\\n",
       "\t3 & 3 & 3 & 5\\\\\n",
       "\t4 & 4 & 2 & 5\\\\\n",
       "\\end{tabular}\n"
      ],
      "text/markdown": [
       "\n",
       "| <!--/--> | x | y | z | \n",
       "|---|---|---|\n",
       "| 1 | 1 | 5 | 5 | \n",
       "| 3 | 3 | 3 | 5 | \n",
       "| 4 | 4 | 2 | 5 | \n",
       "\n",
       "\n"
      ],
      "text/plain": [
       "  x y z\n",
       "1 1 5 5\n",
       "3 3 3 5\n",
       "4 4 2 5"
      ]
     },
     "metadata": {},
     "output_type": "display_data"
    }
   ],
   "source": [
    "df = data.frame(x=1:5,y=5:1,z=rep(5,5))\n",
    "\n",
    "# Drop columns by name\n",
    "df2 = df[ , !(names(df) %in% c(\"x\",\"z\"))]\n",
    "\n",
    "# Drop all other columns except\n",
    "df3 = df[c(\"x\")]\n",
    "\n",
    "# Drop rows by row name (index)\n",
    "remove = c('2','5')\n",
    "df4 = df[!rownames(df) %in% remove, ]\n",
    "\n",
    "head(df4)\n"
   ]
  },
  {
   "cell_type": "markdown",
   "metadata": {},
   "source": [
    "## Altering DataFrame values"
   ]
  },
  {
   "cell_type": "code",
   "execution_count": 133,
   "metadata": {},
   "outputs": [
    {
     "data": {
      "text/html": [
       "<table>\n",
       "<thead><tr><th scope=col>x</th><th scope=col>y</th><th scope=col>z</th></tr></thead>\n",
       "<tbody>\n",
       "\t<tr><td>1 </td><td>11</td><td>5 </td></tr>\n",
       "\t<tr><td>2 </td><td> 4</td><td>5 </td></tr>\n",
       "\t<tr><td>3 </td><td> 3</td><td>5 </td></tr>\n",
       "\t<tr><td>4 </td><td> 2</td><td>5 </td></tr>\n",
       "\t<tr><td>5 </td><td> 1</td><td>5 </td></tr>\n",
       "</tbody>\n",
       "</table>\n"
      ],
      "text/latex": [
       "\\begin{tabular}{r|lll}\n",
       " x & y & z\\\\\n",
       "\\hline\n",
       "\t 1  & 11 & 5 \\\\\n",
       "\t 2  &  4 & 5 \\\\\n",
       "\t 3  &  3 & 5 \\\\\n",
       "\t 4  &  2 & 5 \\\\\n",
       "\t 5  &  1 & 5 \\\\\n",
       "\\end{tabular}\n"
      ],
      "text/markdown": [
       "\n",
       "x | y | z | \n",
       "|---|---|---|---|---|\n",
       "| 1  | 11 | 5  | \n",
       "| 2  |  4 | 5  | \n",
       "| 3  |  3 | 5  | \n",
       "| 4  |  2 | 5  | \n",
       "| 5  |  1 | 5  | \n",
       "\n",
       "\n"
      ],
      "text/plain": [
       "  x y  z\n",
       "1 1 11 5\n",
       "2 2  4 5\n",
       "3 3  3 5\n",
       "4 4  2 5\n",
       "5 5  1 5"
      ]
     },
     "metadata": {},
     "output_type": "display_data"
    }
   ],
   "source": [
    "df = data.frame(x=1:5,y=5:1,z=rep(5,5))\n",
    "df2 = cbind(df)\n",
    "df3 = cbind(df)\n",
    "\n",
    "# Apply change to whole column\n",
    "df2[['x']] = df2[['x']] * 0.8\n",
    "\n",
    "# Conditionally modify certain cells\n",
    "df2[which(df2$y > 3),c('y')] = df2[which(df2$y > 3),c('y')] + df2[which(df2$y > 3),c('x')] + 20\n",
    "\n",
    "# Another way with apply\n",
    "df3[which(df3$y == 5),'y'] = apply(df3[which(df3$y == 5),], 1, function(x) x[['x']] + 2*x[3])\n",
    "\n",
    "df3"
   ]
  },
  {
   "cell_type": "markdown",
   "metadata": {},
   "source": [
    "## Slicing data frame"
   ]
  },
  {
   "cell_type": "markdown",
   "metadata": {},
   "source": [
    "### Basic slicing"
   ]
  },
  {
   "cell_type": "markdown",
   "metadata": {},
   "source": [
    "### Boolean masking"
   ]
  },
  {
   "cell_type": "code",
   "execution_count": 108,
   "metadata": {},
   "outputs": [
    {
     "data": {
      "text/html": [
       "<table>\n",
       "<thead><tr><th></th><th scope=col>x</th><th scope=col>y</th><th scope=col>z</th><th scope=col>a</th></tr></thead>\n",
       "<tbody>\n",
       "\t<tr><th scope=row>2</th><td> 2</td><td>9 </td><td>5 </td><td>12</td></tr>\n",
       "\t<tr><th scope=row>4</th><td> 4</td><td>7 </td><td>5 </td><td>14</td></tr>\n",
       "\t<tr><th scope=row>5</th><td> 5</td><td>6 </td><td>5 </td><td>15</td></tr>\n",
       "\t<tr><th scope=row>6</th><td> 6</td><td>5 </td><td>5 </td><td>16</td></tr>\n",
       "\t<tr><th scope=row>7</th><td> 7</td><td>4 </td><td>5 </td><td>17</td></tr>\n",
       "\t<tr><th scope=row>8</th><td> 8</td><td>3 </td><td>5 </td><td>18</td></tr>\n",
       "\t<tr><th scope=row>9</th><td> 9</td><td>2 </td><td>5 </td><td>19</td></tr>\n",
       "\t<tr><th scope=row>10</th><td>10</td><td>1 </td><td>5 </td><td>20</td></tr>\n",
       "</tbody>\n",
       "</table>\n"
      ],
      "text/latex": [
       "\\begin{tabular}{r|llll}\n",
       "  & x & y & z & a\\\\\n",
       "\\hline\n",
       "\t2 &  2 & 9  & 5  & 12\\\\\n",
       "\t4 &  4 & 7  & 5  & 14\\\\\n",
       "\t5 &  5 & 6  & 5  & 15\\\\\n",
       "\t6 &  6 & 5  & 5  & 16\\\\\n",
       "\t7 &  7 & 4  & 5  & 17\\\\\n",
       "\t8 &  8 & 3  & 5  & 18\\\\\n",
       "\t9 &  9 & 2  & 5  & 19\\\\\n",
       "\t10 & 10 & 1  & 5  & 20\\\\\n",
       "\\end{tabular}\n"
      ],
      "text/markdown": [
       "\n",
       "| <!--/--> | x | y | z | a | \n",
       "|---|---|---|---|---|---|---|---|\n",
       "| 2 |  2 | 9  | 5  | 12 | \n",
       "| 4 |  4 | 7  | 5  | 14 | \n",
       "| 5 |  5 | 6  | 5  | 15 | \n",
       "| 6 |  6 | 5  | 5  | 16 | \n",
       "| 7 |  7 | 4  | 5  | 17 | \n",
       "| 8 |  8 | 3  | 5  | 18 | \n",
       "| 9 |  9 | 2  | 5  | 19 | \n",
       "| 10 | 10 | 1  | 5  | 20 | \n",
       "\n",
       "\n"
      ],
      "text/plain": [
       "   x  y z a \n",
       "2   2 9 5 12\n",
       "4   4 7 5 14\n",
       "5   5 6 5 15\n",
       "6   6 5 5 16\n",
       "7   7 4 5 17\n",
       "8   8 3 5 18\n",
       "9   9 2 5 19\n",
       "10 10 1 5 20"
      ]
     },
     "metadata": {},
     "output_type": "display_data"
    }
   ],
   "source": [
    "df = data.frame(x=1:10,y=10:1,z=rep(5,10),a=11:20)\n",
    "\n",
    "# Get row slice fulfilling a condition along one column\n",
    "df2 = df[df[['x']] < 5, ]\n",
    "\n",
    "# Get row slice fulfilling a condition along one column,\n",
    "# return only certain columns\n",
    "df3 = df[which(df[['x']] < 5), c('y', 'a')]\n",
    "\n",
    "# Notice that NA values are given FALSE if condition not met \n",
    "df4 = cbind(df); df4[1,1] = NA\n",
    "df4 = df4[which(!df4[['x']] == 3),]\n",
    "\n",
    "# Display\n",
    "df4"
   ]
  },
  {
   "cell_type": "markdown",
   "metadata": {},
   "source": [
    "# Data cleaning"
   ]
  },
  {
   "cell_type": "markdown",
   "metadata": {},
   "source": [
    "# Data wrangling tricks"
   ]
  },
  {
   "cell_type": "markdown",
   "metadata": {},
   "source": [
    "# Data cleaning"
   ]
  },
  {
   "cell_type": "markdown",
   "metadata": {},
   "source": [
    "## Find NA values"
   ]
  },
  {
   "cell_type": "code",
   "execution_count": 103,
   "metadata": {},
   "outputs": [
    {
     "data": {
      "text/html": [
       "<table>\n",
       "<thead><tr><th scope=col>x</th><th scope=col>y</th><th scope=col>z</th></tr></thead>\n",
       "<tbody>\n",
       "\t<tr><td>NA</td><td> 5</td><td>NA</td></tr>\n",
       "\t<tr><td> 2</td><td> 4</td><td>NA</td></tr>\n",
       "\t<tr><td> 3</td><td> 3</td><td> 5</td></tr>\n",
       "\t<tr><td> 4</td><td> 2</td><td> 5</td></tr>\n",
       "\t<tr><td>NA</td><td>NA</td><td>NA</td></tr>\n",
       "</tbody>\n",
       "</table>\n"
      ],
      "text/latex": [
       "\\begin{tabular}{r|lll}\n",
       " x & y & z\\\\\n",
       "\\hline\n",
       "\t NA &  5 & NA\\\\\n",
       "\t  2 &  4 & NA\\\\\n",
       "\t  3 &  3 &  5\\\\\n",
       "\t  4 &  2 &  5\\\\\n",
       "\t NA & NA & NA\\\\\n",
       "\\end{tabular}\n"
      ],
      "text/markdown": [
       "\n",
       "x | y | z | \n",
       "|---|---|---|---|---|\n",
       "| NA |  5 | NA | \n",
       "|  2 |  4 | NA | \n",
       "|  3 |  3 |  5 | \n",
       "|  4 |  2 |  5 | \n",
       "| NA | NA | NA | \n",
       "\n",
       "\n"
      ],
      "text/plain": [
       "  x  y  z \n",
       "1 NA  5 NA\n",
       "2  2  4 NA\n",
       "3  3  3  5\n",
       "4  4  2  5\n",
       "5 NA NA NA"
      ]
     },
     "metadata": {},
     "output_type": "display_data"
    }
   ],
   "source": [
    "df = data.frame(x=1:5,y=5:1,z=rep(5,5))\n",
    "df[2,3] = NA;df[1,1] = NA;df[1,3] = NA\n",
    "df[5,1] = NA;df[5,2] = NA;df[5,3] = NA\n",
    "\n",
    "# Only rows where column x is NA\n",
    "df2 = df[which(is.na(df$x)), ]\n",
    "\n",
    "df\n"
   ]
  },
  {
   "cell_type": "markdown",
   "metadata": {},
   "source": [
    "## Clean NaN values"
   ]
  },
  {
   "cell_type": "code",
   "execution_count": 54,
   "metadata": {},
   "outputs": [
    {
     "data": {
      "text/html": [
       "<table>\n",
       "<thead><tr><th></th><th scope=col>x</th><th scope=col>y</th><th scope=col>z</th></tr></thead>\n",
       "<tbody>\n",
       "\t<tr><th scope=row>2</th><td>2 </td><td>4 </td><td>NA</td></tr>\n",
       "\t<tr><th scope=row>3</th><td>3 </td><td>3 </td><td> 5</td></tr>\n",
       "\t<tr><th scope=row>4</th><td>4 </td><td>2 </td><td> 5</td></tr>\n",
       "</tbody>\n",
       "</table>\n"
      ],
      "text/latex": [
       "\\begin{tabular}{r|lll}\n",
       "  & x & y & z\\\\\n",
       "\\hline\n",
       "\t2 & 2  & 4  & NA\\\\\n",
       "\t3 & 3  & 3  &  5\\\\\n",
       "\t4 & 4  & 2  &  5\\\\\n",
       "\\end{tabular}\n"
      ],
      "text/markdown": [
       "\n",
       "| <!--/--> | x | y | z | \n",
       "|---|---|---|\n",
       "| 2 | 2  | 4  | NA | \n",
       "| 3 | 3  | 3  |  5 | \n",
       "| 4 | 4  | 2  |  5 | \n",
       "\n",
       "\n"
      ],
      "text/plain": [
       "  x y z \n",
       "2 2 4 NA\n",
       "3 3 3  5\n",
       "4 4 2  5"
      ]
     },
     "metadata": {},
     "output_type": "display_data"
    }
   ],
   "source": [
    "df = data.frame(x=1:5,y=5:1,z=rep(5,5))\n",
    "df[2,3] = NA;df[1,1] = NA;df[1,3] = NA\n",
    "df[5,1] = NA;df[5,2] = NA;df[5,3] = NA\n",
    "\n",
    "# Only rows without any NA\n",
    "df2 = df[complete.cases(df), ]\n",
    "\n",
    "# Only rows without NA in second column\n",
    "df3 = df[complete.cases(df[ ,2]),]\n",
    "\n",
    "# Only rows without NA in columns 'x' and 'y'\n",
    "df4 = df[complete.cases(df[ ,c('x','y')]),]\n",
    "\n",
    "df4\n"
   ]
  },
  {
   "cell_type": "markdown",
   "metadata": {},
   "source": [
    "# Unsorted"
   ]
  },
  {
   "cell_type": "code",
   "execution_count": 56,
   "metadata": {},
   "outputs": [
    {
     "data": {
      "text/html": [
       "'Let us print number 45.00 and string 66'"
      ],
      "text/latex": [
       "'Let us print number 45.00 and string 66'"
      ],
      "text/markdown": [
       "'Let us print number 45.00 and string 66'"
      ],
      "text/plain": [
       "[1] \"Let us print number 45.00 and string 66\""
      ]
     },
     "metadata": {},
     "output_type": "display_data"
    }
   ],
   "source": [
    "sprintf(\"Let us print number %.2f and string %s\",45,'66')"
   ]
  },
  {
   "cell_type": "code",
   "execution_count": null,
   "metadata": {},
   "outputs": [],
   "source": []
  }
 ],
 "metadata": {
  "kernelspec": {
   "display_name": "R [conda env:mro_env]",
   "language": "R",
   "name": "conda-env-mro_env-r"
  },
  "language_info": {
   "codemirror_mode": "r",
   "file_extension": ".r",
   "mimetype": "text/x-r-source",
   "name": "R",
   "pygments_lexer": "r",
   "version": "3.4.3"
  },
  "toc": {
   "nav_menu": {},
   "number_sections": true,
   "sideBar": true,
   "skip_h1_title": false,
   "toc_cell": true,
   "toc_position": {
    "height": "770px",
    "left": "0px",
    "right": "1569px",
    "top": "110px",
    "width": "171px"
   },
   "toc_section_display": "block",
   "toc_window_display": true
  }
 },
 "nbformat": 4,
 "nbformat_minor": 2
}
