{
 "cells": [
  {
   "cell_type": "markdown",
   "metadata": {},
   "source": [
    "# Cheat sheet on do-calculus\n",
    "R notebook with NoobQuant dev conda environment R installation. Before running make sure .libPaths() contains only one, correct library path.\n",
    "\n",
    "Dagitty installed to dev conda environment via\n",
    "\n",
    "```install.packages(\"dagitty\", dependencies = T)```\n",
    "\n",
    "Useful links:\n",
    " - https://cran.r-project.org/web/packages/dagitty/vignettes/dagitty4semusers.html\n",
    " - http://www.dagitty.net/manual-3.x.pdf\n",
    " - https://cran.r-project.org/web/packages/dagitty/dagitty.pdf\n"
   ]
  },
  {
   "cell_type": "code",
   "execution_count": 2,
   "metadata": {},
   "outputs": [],
   "source": [
    "#.libPaths(.libPaths()[2])\n",
    "#.libPaths()"
   ]
  },
  {
   "cell_type": "code",
   "execution_count": 3,
   "metadata": {},
   "outputs": [
    {
     "name": "stderr",
     "output_type": "stream",
     "text": [
      "Warning message:\n",
      "\"package 'dagitty' was built under R version 3.6.3\""
     ]
    }
   ],
   "source": [
    "library(dagitty)"
   ]
  },
  {
   "cell_type": "markdown",
   "metadata": {},
   "source": [
    "## Pearl's three rules\n",
    "\n",
    "From *Book of Why* page 234-235.\n",
    "\n",
    "**Rule 1**\n",
    "Observing variable $W$ that is irrelevant to $Y$ (possibly conditionally o other set of variables $Z$) does not change probability distribution of $Y$.\n",
    "\n",
    "\\begin{align}\n",
    "P(Y | do(X), \\ Z, \\ W) & = P(Y | do(X), \\ Z)\n",
    "\\end{align}\n",
    "\n",
    "**Rule 2**\n",
    "If a set of variables $Z$ blocks all back-door paths from $X$ to $Y$, the conditional on $Z$, $do(X)$ is equivalent to $see(X)$.\n",
    "\n",
    "\\begin{align}\n",
    "P(Y | do(X), \\ Z) & = P(Y | X, \\ Z)\n",
    "\\end{align}\n",
    "\n",
    "**Rule 3**\n",
    "If ther are no causal paths from $X$ to $Y$ (i.e. no paths from $X$ to $Y$ with only forward-directed arrows) then $do(X)$ has no effect on the probability distribution of $Y$. \n",
    "\n",
    "\\begin{align}\n",
    "P(Y | do(X)) & = P(Y)\n",
    "\\end{align}"
   ]
  },
  {
   "cell_type": "markdown",
   "metadata": {},
   "source": [
    "## Example from *The Book of Why* Figure 7.4"
   ]
  },
  {
   "cell_type": "code",
   "execution_count": 11,
   "metadata": {},
   "outputs": [
    {
     "data": {
      "image/png": "[encoded data removed]",
      "text/plain": [
       "plot without title"
      ]
     },
     "metadata": {},
     "output_type": "display_data"
    }
   ],
   "source": [
    "options(repr.plot.width=3, repr.plot.height=1)\n",
    "g1 = dagitty( 'dag {\n",
    "    U [latent, pos=\"1,0\"]\n",
    "    S [exposure, pos=\"0,1\"]\n",
    "    T [pos=\"1,1\"]\n",
    "    C [outcome, pos=\"2,1\"]        \n",
    "\n",
    "    S <- U -> C\n",
    "    S -> T -> C\n",
    "}')\n",
    "plot(g1)"
   ]
  },
  {
   "cell_type": "markdown",
   "metadata": {},
   "source": [
    "In this example, front-door criterion may be used. Below is the equicalent result due to do-calculus:\n",
    "\n",
    "$\n",
    "\\begin{align}\n",
    "P(c \\ | \\ do(s)) & = \\sum_t P(c \\ | \\ do(s), \\ t) \\ P(t \\ | \\ do(s)) \\quad & \\text{Laf of total probability} \\\\\n",
    "& = \\sum_t P(c \\ | \\ do(s), \\ do(t)) \\ P(t \\ | \\ do(s)) \\quad & do(s) \\text{ blocks back-door path -> Rule 2} \\\\\n",
    "& = \\sum_t P(c \\ | \\ do(s), \\ do(t)) \\ P(t \\ | \\ s) \\quad & scsc \\\\\n",
    "& = \\sum_t P(c \\ | \\ do(t)) \\ P(t \\ | \\ s) \\quad & scsc \\\\\n",
    "& = \\sum_{s'} \\sum_t P(c \\ | \\ do(t), \\ s') \\ P(s' \\ | \\ do(t)) \\ P(t \\ | \\ s) \\quad & scsc \\\\\n",
    "& = \\sum_{s'} \\sum_t P(c \\ | \\ t, \\ s') \\ P(s' \\ | \\ do(t)) \\ P(t \\ | \\ s) \\quad & scsc \\\\\n",
    "& = \\sum_{s'} \\sum_t P(c \\ | \\ t, \\ s') \\ P(s') \\ P(t \\ | \\ s) \\quad & scsc \\\\\n",
    "\\end{align}\n",
    "$"
   ]
  },
  {
   "cell_type": "code",
   "execution_count": 10,
   "metadata": {},
   "outputs": [],
   "source": [
    "# Returns empty, as U is latent and there are no adjustment sets\n",
    "adjustmentSets(g1, type = c(\"minimal\",\"canonical\", \"all\"), effect = c(\"total\", \"direct\"))"
   ]
  },
  {
   "cell_type": "code",
   "execution_count": null,
   "metadata": {},
   "outputs": [],
   "source": []
  }
 ],
 "metadata": {
  "kernelspec": {
   "display_name": "R",
   "language": "R",
   "name": "ir"
  },
  "language_info": {
   "codemirror_mode": "r",
   "file_extension": ".r",
   "mimetype": "text/x-r-source",
   "name": "R",
   "pygments_lexer": "r",
   "version": "3.6.0"
  }
 },
 "nbformat": 4,
 "nbformat_minor": 4
}
