{
 "cells": [
  {
   "cell_type": "markdown",
   "metadata": {},
   "source": [
    "# Cheat sheet on do-calculus\n",
    "R notebook with NoobQuant dev conda environment R installation. Before running make sure .libPaths() contains only one, correct library path.\n",
    "\n",
    "Dagitty installed to dev conda environment via\n",
    "\n",
    "```install.packages(\"dagitty\", dependencies = T)```\n",
    "\n",
    "Useful links:\n",
    " - https://cran.r-project.org/web/packages/dagitty/vignettes/dagitty4semusers.html\n",
    " - http://www.dagitty.net/manual-3.x.pdf\n",
    " - https://cran.r-project.org/web/packages/dagitty/dagitty.pdf\n",
    " - https://nickch-k.github.io/introcausality/Cheat%20Sheets/Causal_Diagrams_Cheat_Sheet.pdf\n"
   ]
  },
  {
   "cell_type": "code",
   "execution_count": 1,
   "metadata": {},
   "outputs": [],
   "source": [
    "#.libPaths(.libPaths()[2])\n",
    "#.libPaths()"
   ]
  },
  {
   "cell_type": "code",
   "execution_count": 2,
   "metadata": {},
   "outputs": [
    {
     "name": "stderr",
     "output_type": "stream",
     "text": [
      "Warning message:\n",
      "\"package 'dagitty' was built under R version 3.6.3\""
     ]
    }
   ],
   "source": [
    "library(dagitty)"
   ]
  },
  {
   "cell_type": "markdown",
   "metadata": {},
   "source": [
    "## Possible biases\n",
    "- Collider bias\n",
    "- Post-treatment bias"
   ]
  },
  {
   "cell_type": "markdown",
   "metadata": {},
   "source": [
    "## Pearl's three rules of do-calculus\n",
    "\n",
    "From *Book of Why* page 234-235.\n",
    "\n",
    "**Rule 1**\n",
    "Observing variable $W$ that is irrelevant to $Y$ (possibly conditionally o other set of variables $Z$) does not change probability distribution of $Y$.\n",
    "\n",
    "\\begin{align}\n",
    "P(Y | do(X), \\ Z, \\ W) & = P(Y | do(X), \\ Z)\n",
    "\\end{align}\n",
    "\n",
    "**Rule 2**\n",
    "If a set of variables $Z$ blocks all back-door paths from $X$ to $Y$, the conditional on $Z$, $do(X)$ is equivalent to $see(X)$.\n",
    "\n",
    "\\begin{align}\n",
    "P(Y | do(X), \\ Z) & = P(Y | X, \\ Z)\n",
    "\\end{align}\n",
    "\n",
    "**Rule 3**\n",
    "If ther are no causal paths from $X$ to $Y$ (i.e. no paths from $X$ to $Y$ with only forward-directed arrows) then $do(X)$ has no effect on the probability distribution of $Y$. \n",
    "\n",
    "\\begin{align}\n",
    "P(Y | do(X)) & = P(Y)\n",
    "\\end{align}"
   ]
  },
  {
   "cell_type": "markdown",
   "metadata": {},
   "source": [
    "## Example from *The Book of Why* Figure 7.4"
   ]
  },
  {
   "cell_type": "code",
   "execution_count": 3,
   "metadata": {},
   "outputs": [
    {
     "data": {
      "image/png": "[encoded data removed]",
      "text/plain": [
       "plot without title"
      ]
     },
     "metadata": {},
     "output_type": "display_data"
    }
   ],
   "source": [
    "options(repr.plot.width=3, repr.plot.height=1)\n",
    "\n",
    "# In this DAG U is latent\n",
    "g1 = dagitty( 'dag {\n",
    "    U [latent, pos=\"1,0\"]\n",
    "    S [exposure, pos=\"0,1\"]\n",
    "    T [pos=\"1,1\"]\n",
    "    C [outcome, pos=\"2,1\"]        \n",
    "\n",
    "    S <- U -> C\n",
    "    S -> T -> C\n",
    "}')\n",
    "\n",
    "# In this DAG U is not latent\n",
    "g2 = dagitty( 'dag {\n",
    "    U [pos=\"1,0\"]\n",
    "    S [exposure, pos=\"0,1\"]\n",
    "    T [pos=\"1,1\"]\n",
    "    C [outcome, pos=\"2,1\"]        \n",
    "\n",
    "    S <- U -> C\n",
    "    S -> T -> C\n",
    "}')\n",
    "plot(g1)"
   ]
  },
  {
   "cell_type": "markdown",
   "metadata": {},
   "source": [
    "In case of graph *g1*, front-door criterion may be used. Below is the equicalent result due to do-calculus:\n",
    "\n",
    "$\n",
    "\\begin{align*}\n",
    "P(c \\ | \\ do(s)) & = \\sum_t P(c \\ | \\ do(s), \\ t) \\ P(t \\ | \\ do(s)) \\quad & \\text{Laf of total probability} \\\\\n",
    "& = \\sum_t P(c \\ | \\ do(s), \\ do(t)) \\ P(t \\ | \\ do(s)) \\quad & do(s) \\text{ blocks bdp T<-S<-U->C ==> Rule 2} \\\\\n",
    "& = \\sum_t P(c \\ | \\ do(s), \\ do(t)) \\ P(t \\ | \\ s) \\quad & \\text{ no bdp b/w S and T ==> Rule 2} \\\\\n",
    "& = \\sum_t P(c \\ | \\ do(t)) \\ P(t \\ | \\ s) \\quad & \\text{no causal path b/w S and C after controlling } do(t) \\text{ ==> Rule 3} \\\\\n",
    "& = \\sum_{s'} \\sum_t P(c \\ | \\ do(t), \\ s') \\ P(s' \\ | \\ do(t)) \\ P(t \\ | \\ s) \\quad & \\text{Laf of total probability} \\\\\n",
    "& = \\sum_{s'} \\sum_t P(c \\ | \\ t, \\ s') \\ P(s' \\ | \\ do(t)) \\ P(t \\ | \\ s) \\quad & s' \\text{ blocks bdp T<-S<-U->C ==> Rule 2} \\\\\n",
    "& = \\sum_{s'} \\sum_t P(c \\ | \\ t, \\ s') \\ P(s') \\ P(t \\ | \\ s) \\quad & \\text{no causal path T->S ==> Rule 3} \\\\\n",
    "\\end{align*}\n",
    "$"
   ]
  },
  {
   "cell_type": "markdown",
   "metadata": {},
   "source": [
    "### Using dagitty on previous example\n",
    "How can we obtain the result from dagitty here?"
   ]
  },
  {
   "cell_type": "code",
   "execution_count": 4,
   "metadata": {},
   "outputs": [
    {
     "name": "stdout",
     "output_type": "stream",
     "text": [
      "$paths\n",
      "[1] \"S -> T -> C\" \"S <- U -> C\"\n",
      "\n",
      "$open\n",
      "[1] TRUE TRUE\n",
      "\n"
     ]
    }
   ],
   "source": [
    "print(paths(g1))"
   ]
  },
  {
   "cell_type": "code",
   "execution_count": 5,
   "metadata": {},
   "outputs": [
    {
     "name": "stdout",
     "output_type": "stream",
     "text": [
      "[1] \"---\"\n",
      " { U }\n"
     ]
    }
   ],
   "source": [
    "# Returns empty, as U is latent and there are no adjustment sets\n",
    "print(adjustmentSets(g1, type = c(\"minimal\",\"canonical\", \"all\"), effect = c(\"total\", \"direct\")))\n",
    "print(\"---\")\n",
    "# Returns U\n",
    "print(adjustmentSets(g2, type = c(\"minimal\",\"canonical\", \"all\"), effect = c(\"total\", \"direct\")))"
   ]
  },
  {
   "cell_type": "code",
   "execution_count": 6,
   "metadata": {},
   "outputs": [
    {
     "name": "stdout",
     "output_type": "stream",
     "text": [
      "[1] \"---\"\n",
      "C _||_ S | T, U\n",
      "T _||_ U | S\n"
     ]
    }
   ],
   "source": [
    "print(impliedConditionalIndependencies(g1))\n",
    "print(\"---\")\n",
    "print(impliedConditionalIndependencies(g2))"
   ]
  },
  {
   "cell_type": "code",
   "execution_count": 7,
   "metadata": {},
   "outputs": [
    {
     "name": "stdout",
     "output_type": "stream",
     "text": [
      "[1] \"T\" \"S\" \"U\"\n",
      "[1] \"S\"\n"
     ]
    },
    {
     "data": {
      "image/png": "[encoded data removed]",
      "text/plain": [
       "plot without title"
      ]
     },
     "metadata": {},
     "output_type": "display_data"
    }
   ],
   "source": [
    "plot(ancestorGraph(g1, \"T\"))\n",
    "print(ancestors(g1, \"T\"))\n",
    "print(parents(g1, \"T\"))"
   ]
  },
  {
   "cell_type": "code",
   "execution_count": 8,
   "metadata": {},
   "outputs": [
    {
     "name": "stdout",
     "output_type": "stream",
     "text": [
      "[1] \"T\" \"C\"\n",
      "[1] \"C\"\n"
     ]
    }
   ],
   "source": [
    "print(descendants(g1, \"T\"))\n",
    "print(children(g1, \"T\"))"
   ]
  },
  {
   "cell_type": "code",
   "execution_count": 9,
   "metadata": {},
   "outputs": [
    {
     "data": {
      "image/png": "[encoded data removed]",
      "text/plain": [
       "plot without title"
      ]
     },
     "metadata": {},
     "output_type": "display_data"
    }
   ],
   "source": [
    "# Removes every first edge on a proper causal path from input graph\n",
    "plot(backDoorGraph(g1))"
   ]
  },
  {
   "cell_type": "code",
   "execution_count": 10,
   "metadata": {},
   "outputs": [
    {
     "name": "stdout",
     "output_type": "stream",
     "text": [
      "[1] TRUE\n",
      "[1] TRUE\n",
      "[1] FALSE\n",
      "[1] \"---\"\n",
      "[1] TRUE\n",
      "[1] TRUE\n",
      "[1] FALSE\n"
     ]
    }
   ],
   "source": [
    "print(dconnected(g1, \"S\", \"C\"))\n",
    "print(dconnected(g1, \"S\", \"C\", c(\"T\")))\n",
    "print(dconnected(g1, \"S\", \"C\", c(\"U\", \"T\")))\n",
    "print(\"---\")\n",
    "print(dconnected(g2, \"S\", \"C\"))\n",
    "print(dconnected(g2, \"S\", \"C\", c(\"T\")))\n",
    "print(dconnected(g2, \"S\", \"C\", c(\"U\", \"T\")))"
   ]
  },
  {
   "cell_type": "markdown",
   "metadata": {},
   "source": [
    "## Example on closing back doors\n",
    "\n",
    "Found in video [Causality: Closing Back Doors](https://www.youtube.com/watch?v=IajzIKW518M) by Nick Huntington-Klein."
   ]
  },
  {
   "cell_type": "code",
   "execution_count": 11,
   "metadata": {},
   "outputs": [
    {
     "data": {
      "image/png": "[encoded data removed]",
      "text/plain": [
       "plot without title"
      ]
     },
     "metadata": {},
     "output_type": "display_data"
    }
   ],
   "source": [
    "options(repr.plot.width=4, repr.plot.height=2)\n",
    "ex2 = dagitty( 'dag {\n",
    "    wine [exposure, pos=\"0,2\"]\n",
    "    lifespan [outcome, pos=\"4,2\"]\n",
    "    initial_health [pos=\"1,1\"]\n",
    "    income [pos=\"3,1\"]\n",
    "    drugs [pos=\"2,3\"]\n",
    "    U [latent, pos=\"2,0\"]\n",
    "\n",
    "    wine -> lifespan\n",
    "    wine -> drugs -> lifespan\n",
    "    initial_health <- U -> income\n",
    "    wine <- initial_health -> lifespan\n",
    "    wine <- income -> lifespan\n",
    "}')\n",
    "plot(ex2)"
   ]
  },
  {
   "cell_type": "code",
   "execution_count": 12,
   "metadata": {},
   "outputs": [
    {
     "name": "stdout",
     "output_type": "stream",
     "text": [
      "$paths\n",
      "[1] \"wine -> drugs -> lifespan\"                        \n",
      "[2] \"wine -> lifespan\"                                 \n",
      "[3] \"wine <- income -> lifespan\"                       \n",
      "[4] \"wine <- income <- U -> initial_health -> lifespan\"\n",
      "[5] \"wine <- initial_health -> lifespan\"               \n",
      "[6] \"wine <- initial_health <- U -> income -> lifespan\"\n",
      "\n",
      "$open\n",
      "[1] TRUE TRUE TRUE TRUE TRUE TRUE\n",
      "\n"
     ]
    }
   ],
   "source": [
    "print(paths(ex2))"
   ]
  },
  {
   "cell_type": "code",
   "execution_count": 13,
   "metadata": {},
   "outputs": [
    {
     "name": "stdout",
     "output_type": "stream",
     "text": [
      " { income, initial_health }\n"
     ]
    },
    {
     "data": {
      "image/png": "[encoded data removed]",
      "text/plain": [
       "plot without title"
      ]
     },
     "metadata": {},
     "output_type": "display_data"
    }
   ],
   "source": [
    "print(adjustmentSets(ex2))\n",
    "plot(backDoorGraph(ex2))"
   ]
  },
  {
   "cell_type": "code",
   "execution_count": 14,
   "metadata": {},
   "outputs": [
    {
     "name": "stdout",
     "output_type": "stream",
     "text": [
      "drugs _||_ income | wine\n",
      "drugs _||_ initial_health | wine\n"
     ]
    }
   ],
   "source": [
    "print(impliedConditionalIndependencies(ex2))"
   ]
  }
 ],
 "metadata": {
  "kernelspec": {
   "display_name": "R",
   "language": "R",
   "name": "ir"
  },
  "language_info": {
   "codemirror_mode": "r",
   "file_extension": ".r",
   "mimetype": "text/x-r-source",
   "name": "R",
   "pygments_lexer": "r",
   "version": "3.6.0"
  }
 },
 "nbformat": 4,
 "nbformat_minor": 4
}
