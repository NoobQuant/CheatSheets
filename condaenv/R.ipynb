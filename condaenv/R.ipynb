{
 "cells": [
  {
   "cell_type": "markdown",
   "metadata": {},
   "source": [
    "# R notebook test file for NoobQuant dev conda environment"
   ]
  },
  {
   "cell_type": "markdown",
   "metadata": {},
   "source": [
    "## Show paths of R.exe and import paths"
   ]
  },
  {
   "cell_type": "code",
   "execution_count": 2,
   "metadata": {},
   "outputs": [
    {
     "name": "stdout",
     "output_type": "stream",
     "text": [
      "[1] \"D:/Anaconda3/envs/temp/lib/R/bin/x64/R\"\n",
      "[1] \"D:/Anaconda3/envs/temp/lib/R/library\"\n"
     ]
    }
   ],
   "source": [
    "print(file.path(R.home(\"bin\"), \"R\"))\n",
    "print(.libPaths())"
   ]
  },
  {
   "cell_type": "markdown",
   "metadata": {},
   "source": [
    "## Test imports"
   ]
  },
  {
   "cell_type": "code",
   "execution_count": 3,
   "metadata": {},
   "outputs": [
    {
     "name": "stderr",
     "output_type": "stream",
     "text": [
      "Registered S3 methods overwritten by 'ggplot2':\n",
      "  method         from \n",
      "  [.quosures     rlang\n",
      "  c.quosures     rlang\n",
      "  print.quosures rlang\n",
      "Registered S3 method overwritten by 'rvest':\n",
      "  method            from\n",
      "  read_xml.response xml2\n",
      "-- Attaching packages --------------------------------------- tidyverse 1.2.1 --\n",
      "v ggplot2 3.1.1       v purrr   0.3.2  \n",
      "v tibble  2.1.1       v dplyr   0.8.0.1\n",
      "v tidyr   0.8.3       v stringr 1.4.0  \n",
      "v readr   1.3.1       v forcats 0.4.0  \n",
      "-- Conflicts ------------------------------------------ tidyverse_conflicts() --\n",
      "x dplyr::filter() masks stats::filter()\n",
      "x dplyr::lag()    masks stats::lag()\n",
      "Warning message:\n",
      "\"package 'RJSDMX' was built under R version 3.6.1\"Loading required package: rJava\n",
      "Loading required package: zoo\n",
      "\n",
      "Attaching package: 'zoo'\n",
      "\n",
      "The following objects are masked from 'package:base':\n",
      "\n",
      "    as.Date, as.Date.numeric\n",
      "\n"
     ]
    }
   ],
   "source": [
    "library(tidyverse)\n",
    "library(ggplot2)\n",
    "library(RJSDMX)\n",
    "library(datasets)"
   ]
  },
  {
   "cell_type": "markdown",
   "metadata": {},
   "source": [
    "## Test tidyverse packages"
   ]
  },
  {
   "cell_type": "code",
   "execution_count": 4,
   "metadata": {},
   "outputs": [
    {
     "data": {
      "text/html": [
       "<table>\n",
       "<thead><tr><th scope=col>Species</th><th scope=col>SL.mean</th><th scope=col>SL.se</th></tr></thead>\n",
       "<tbody>\n",
       "\t<tr><td>setosa    </td><td>5.006     </td><td>0.04984957</td></tr>\n",
       "\t<tr><td>versicolor</td><td>5.936     </td><td>0.07299762</td></tr>\n",
       "\t<tr><td>virginica </td><td>6.588     </td><td>0.08992695</td></tr>\n",
       "</tbody>\n",
       "</table>\n"
      ],
      "text/latex": [
       "\\begin{tabular}{r|lll}\n",
       " Species & SL.mean & SL.se\\\\\n",
       "\\hline\n",
       "\t setosa     & 5.006      & 0.04984957\\\\\n",
       "\t versicolor & 5.936      & 0.07299762\\\\\n",
       "\t virginica  & 6.588      & 0.08992695\\\\\n",
       "\\end{tabular}\n"
      ],
      "text/markdown": [
       "\n",
       "| Species | SL.mean | SL.se |\n",
       "|---|---|---|\n",
       "| setosa     | 5.006      | 0.04984957 |\n",
       "| versicolor | 5.936      | 0.07299762 |\n",
       "| virginica  | 6.588      | 0.08992695 |\n",
       "\n"
      ],
      "text/plain": [
       "  Species    SL.mean SL.se     \n",
       "1 setosa     5.006   0.04984957\n",
       "2 versicolor 5.936   0.07299762\n",
       "3 virginica  6.588   0.08992695"
      ]
     },
     "metadata": {},
     "output_type": "display_data"
    }
   ],
   "source": [
    "data(iris)\n",
    "iris.means <- iris %>%\n",
    "  group_by(Species) %>%\n",
    "  summarize(SL.mean = mean(Sepal.Length),\n",
    "            SL.se = sd(Sepal.Length)/sqrt(n()))\n",
    "iris.means"
   ]
  },
  {
   "cell_type": "code",
   "execution_count": 6,
   "metadata": {},
   "outputs": [
    {
     "data": {
      "image/png": "[encoded data removed]",
      "text/plain": [
       "plot without title"
      ]
     },
     "metadata": {},
     "output_type": "display_data"
    }
   ],
   "source": [
    "ggplot(data = iris.means, mapping = aes(x = Species, y = SL.mean)) +\n",
    "  geom_point() +\n",
    "  geom_errorbar(mapping = aes(ymin = SL.mean - SL.se,\n",
    "                              ymax = SL.mean + SL.se),\n",
    "                width = 0.3)"
   ]
  },
  {
   "cell_type": "markdown",
   "metadata": {},
   "source": [
    "## Test RJSDMX"
   ]
  },
  {
   "cell_type": "code",
   "execution_count": 7,
   "metadata": {},
   "outputs": [
    {
     "data": {
      "image/png": "[encoded data removed]",
      "text/plain": [
       "plot without title"
      ]
     },
     "metadata": {},
     "output_type": "display_data"
    }
   ],
   "source": [
    "options(warn=-1)\n",
    "library(RJSDMX)\n",
    "ticker = \"EO.FIN.GDPV.Q\"\n",
    "mylist = getTimeSeries(\"OECD\", ticker)\n",
    "\n",
    "df = sdmxdf(mylist, meta=F)\n",
    "df[[\"TIME_PERIOD\"]] = as.Date(as.yearqtr(as.character(df[[\"TIME_PERIOD\"]]), format = \"%Y Q%q\"))\n",
    "\n",
    "plot(df[[\"TIME_PERIOD\"]],df[['OBS_VALUE']])"
   ]
  },
  {
   "cell_type": "code",
   "execution_count": null,
   "metadata": {},
   "outputs": [],
   "source": []
  }
 ],
 "metadata": {
  "kernelspec": {
   "display_name": "R",
   "language": "R",
   "name": "ir"
  },
  "language_info": {
   "codemirror_mode": "r",
   "file_extension": ".r",
   "mimetype": "text/x-r-source",
   "name": "R",
   "pygments_lexer": "r",
   "version": "3.6.0"
  }
 },
 "nbformat": 4,
 "nbformat_minor": 4
}
