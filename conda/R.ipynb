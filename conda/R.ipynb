{
 "cells": [
  {
   "cell_type": "markdown",
   "metadata": {},
   "source": [
    "# R notebook test file for NoobQuantconda environments"
   ]
  },
  {
   "cell_type": "markdown",
   "metadata": {},
   "source": [
    "## Show paths of R.exe and import paths"
   ]
  },
  {
   "cell_type": "code",
   "execution_count": null,
   "metadata": {},
   "outputs": [],
   "source": [
    "print(file.path(R.home(\"bin\"), \"R\"))\n",
    "print(.libPaths())"
   ]
  },
  {
   "cell_type": "markdown",
   "metadata": {},
   "source": [
    "## Test imports"
   ]
  },
  {
   "cell_type": "code",
   "execution_count": null,
   "metadata": {},
   "outputs": [],
   "source": [
    "library(tidyverse)\n",
    "library(ggplot2)\n",
    "library(RJSDMX)\n",
    "library(datasets)"
   ]
  },
  {
   "cell_type": "markdown",
   "metadata": {},
   "source": [
    "## Test tidyverse packages"
   ]
  },
  {
   "cell_type": "code",
   "execution_count": null,
   "metadata": {},
   "outputs": [],
   "source": [
    "data(iris)\n",
    "iris.means <- iris %>%\n",
    "  group_by(Species) %>%\n",
    "  summarize(SL.mean = mean(Sepal.Length),\n",
    "            SL.se = sd(Sepal.Length)/sqrt(n()))\n",
    "iris.means"
   ]
  },
  {
   "cell_type": "code",
   "execution_count": null,
   "metadata": {},
   "outputs": [],
   "source": [
    "ggplot(data = iris.means, mapping = aes(x = Species, y = SL.mean)) +\n",
    "  geom_point() +\n",
    "  geom_errorbar(mapping = aes(ymin = SL.mean - SL.se,\n",
    "                              ymax = SL.mean + SL.se),\n",
    "                width = 0.3)"
   ]
  },
  {
   "cell_type": "markdown",
   "metadata": {},
   "source": [
    "## Test RJSDMX"
   ]
  },
  {
   "cell_type": "code",
   "execution_count": null,
   "metadata": {},
   "outputs": [],
   "source": [
    "options(warn=-1)\n",
    "library(RJSDMX)\n",
    "ticker = \"EO.FIN.GDPV.Q\"\n",
    "mylist = getTimeSeries(\"OECD\", ticker)\n",
    "\n",
    "df = sdmxdf(mylist, meta=F)\n",
    "df[[\"TIME_PERIOD\"]] = as.Date(as.yearqtr(as.character(df[[\"TIME_PERIOD\"]]), format = \"%Y Q%q\"))\n",
    "\n",
    "plot(df[[\"TIME_PERIOD\"]],df[['OBS_VALUE']])"
   ]
  }
 ],
 "metadata": {
  "kernelspec": {
   "display_name": "R",
   "language": "R",
   "name": "ir"
  },
  "language_info": {
   "codemirror_mode": "r",
   "file_extension": ".r",
   "mimetype": "text/x-r-source",
   "name": "R",
   "pygments_lexer": "r",
   "version": "3.6.3"
  }
 },
 "nbformat": 4,
 "nbformat_minor": 4
}
