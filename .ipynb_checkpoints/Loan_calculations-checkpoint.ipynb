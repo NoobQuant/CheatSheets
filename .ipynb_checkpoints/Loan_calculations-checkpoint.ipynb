{
 "cells": [
  {
   "cell_type": "markdown",
   "metadata": {},
   "source": [
    "# Annuities\n",
    "Source: http://www1.maths.leeds.ac.uk/~jitse/math1510/notes-ch2.pdf"
   ]
  },
  {
   "cell_type": "markdown",
   "metadata": {},
   "source": [
    "- An annuity is a sequence of payments with fixed frequency. Originally annuities referred to annual payments only.\n",
    "- A life-annuity pays regular income until death. An annuity with fixed nuimber of payments is called annuity certain. This note will focus on annuity certains.\n",
    "- Annuity immediate: Regular series of payments at the end of every period. This note will focus exclusively on annual immediates."
   ]
  },
  {
   "cell_type": "markdown",
   "metadata": {},
   "source": [
    "- $i_{[p]}$: **interest rate** payble per compound (conversion) period $p$\n",
    "- $i^{(p,t)} \\equiv i^{(p)} = p \\cdot i_{[p]}$: **nominal interest rate** payble per compound (conversion) period $p$ (usually months), quoted per base time unit $t$ (usually per annum, p.a.)\n",
    "    - For example, 8% p.a. nominal interest rate payable quarterly means that payments are made at monthly frequency per rate of $i_{[1/4]} = \\frac{8\\%}{4} = 2\\% $\n",
    "    - For example, 2% p.m. nominal interest rate payable yearly means that payments are made at yearly frequency per rate of $i_{[12]} = 2\\% * 12 = 24\\% $\n",
    "\n",
    "- $i^{(e,p,t)} \\equiv i^{(e,p)}$: **Effective interest rate** corresponding to nominal interes rate $i^{(p)}$. It is the rate to be appliead at base time unit that yields equivalent interest accrual to conversion rate $i_{[p]}$. Can be solved for from $$1 + i^{(e,p)} = \\big(  1 + \\frac{i^{(p)}}{p} \\big)^{p}$$ Above solved for $ i^{(p)} $: $$i^{(p)} = p \\ \\big[ \\big( 1 + i^{(e,p)} \\big)^{\\frac{1}{p}} - 1 \\big] $$ Above solved for $ i^{(e,p)} $: $$i^{(e,p)} = \\big(  1 + \\frac{i^{(p)}}{p} \\big)^{p} - 1$$ \n"
   ]
  },
  {
   "cell_type": "markdown",
   "metadata": {},
   "source": [
    " \n",
    "\n",
    "** Accumulated value (or future value) of annuity after $n$ conversion periods:**\n",
    "\n",
    "Accumulated value (or future value) of annuity (paying C units at the end of each conversion period)\n",
    "\n",
    "$$cs_{n,i} = C \\cdot s_{n,i} = C \\cdot  \\frac{\\big(1+ i_{[p]} \\big)^{np} - 1}{i_{[p]}}, \\quad i_{[p]} \\neq 0, \\ n > 0$$\n",
    "\n",
    "where $n$ denotes the amount of conversion periods, $i_{[p]}$ is the conversion period interest rate, and $C$ is the conversion period cash flow.\n",
    "\n",
    "Many times parameters are not given for the conversion period (e.g. month) but rather for a base time unit (usually year), i.e. $i^{(p)}$ (ther are $p$ conversion period in base period). For example, consider that interest rate is given quoted as p.a. Then simply we first have to calculate the per-conversion period interst rate from $i_{[p]} = \\frac{i \\ ^{(p)}}{p}$ and plug it into the formula above. If $i_{[p]}=0$ then $s_{n,i} = n$.\n",
    "\n",
    "Notice that in section 2.4 of the reference paper there is a subtlety when calculating annuities payble e.g. monthly. Forward and present values in the reference already contain scaling by $p$, so that when the cash flow is introduced it is in the units of base time period of year. I don't prefer this approach but rather use conversion period units whereever possible.\n",
    "\n",
    "------------------------------\n",
    "A special case of the $n$th period accumulated value is 0th period accumulate value $s_{0,i}$. This has a special name, *present value of annuity*. \n",
    "\n",
    "** Present value of n-period annuity**\n",
    "Present value of n-period annuity paying $C$ units at the end of each conversion period is\n",
    "\n",
    "$$ca_{n,i} = C \\cdot a_{n,i} = C \\cdot \\frac{1 - \\big(1+ i_{[p]} \\big)^{-np}}{i_{[p]}}, \\quad i \\neq 0$$\n",
    "\n",
    "If $i=0$ then $a_{n,i} = n$.\n",
    "\n",
    "\n",
    "** Relationship between future value and present value of annuity**\n",
    "\n",
    "$$a_{n,i}  = \\frac{s_{n,i}}{(1+i_{[p]})^n} $$\n",
    "\n",
    "\n",
    "Nyt seuraavaksi läppää siitä mikä osuus on korkoa ja mikä osa lyhennsytä."
   ]
  },
  {
   "cell_type": "markdown",
   "metadata": {},
   "source": [
    "### Examples"
   ]
  },
  {
   "cell_type": "code",
   "execution_count": 93,
   "metadata": {},
   "outputs": [],
   "source": [
    "import math\n",
    "import numpy as np\n",
    "import pandas as pd\n",
    "from IPython.display import display\n",
    "from matplotlib import pyplot as plt\n",
    "%matplotlib inline\n"
   ]
  },
  {
   "cell_type": "code",
   "execution_count": 23,
   "metadata": {},
   "outputs": [],
   "source": [
    "def annuity_pv(rate, nper, C):\n",
    "    return C * ( 1 - math.pow( 1 + rate, -nper ) ) / (rate)\n",
    "\n",
    "def annuity_fv(rate, nper, C):\n",
    "    return C * ( math.pow( 1 + rate, nper ) -1 ) / (rate)"
   ]
  },
  {
   "cell_type": "code",
   "execution_count": 69,
   "metadata": {},
   "outputs": [],
   "source": [
    "def annuity_pmt(rate, nper, pv):    \n",
    "    x = math.pow(1 + rate, nper);\n",
    "    return (pv * x * rate) / (x - 1);\n"
   ]
  },
  {
   "cell_type": "code",
   "execution_count": 10,
   "metadata": {},
   "outputs": [
    {
     "data": {
      "text/plain": [
       "3393.0345608370053"
      ]
     },
     "metadata": {},
     "output_type": "display_data"
    },
    {
     "data": {
      "text/plain": [
       "3393.0345608370053"
      ]
     },
     "metadata": {},
     "output_type": "display_data"
    }
   ],
   "source": [
    "# Example 2.4.2 from reference paper\n",
    "\n",
    "# Base period yearly\n",
    "n = 10 # number of years\n",
    "p = 1/2 # how many times compounded yearly\n",
    "i_p_effective = 0.07 # effective yearly interest rate. THIS IS NOT p.a. interest rate compounded once in two years\n",
    "i_conv_nominal = p * ( math.pow(1+i_p_effective,1/p) - 1) # twice a year nominal rate, quoted at base interval\n",
    "i_conv_effective = i_conv_nominal/p # twice a year effective rate\n",
    "C_conv = 1000 # cash flow at conversion time unit\n",
    "\n",
    "# Calculate and display present value\n",
    "ca = annuity_pv(i_conv_effective, n*p, C_conv)\n",
    "display(ca)\n",
    "\n",
    "# Same using numpy's built in functions\n",
    "display(np.pv(rate = i_conv_effective, nper = n*p, pmt = -C_conv, fv = 0, when = 'end'))\n"
   ]
  },
  {
   "cell_type": "code",
   "execution_count": 17,
   "metadata": {},
   "outputs": [
    {
     "data": {
      "text/plain": [
       "2124.3387257627865"
      ]
     },
     "metadata": {},
     "output_type": "display_data"
    },
    {
     "data": {
      "text/plain": [
       "2124.3387257627869"
      ]
     },
     "metadata": {},
     "output_type": "display_data"
    }
   ],
   "source": [
    "# Test from http://www.zenwealth.com/BusinessFinanceOnline/TVM/OtherCompounding.html\n",
    "# Find the Present Value of an annuity of $100 per month for 2 years if the interest\n",
    "# rate is 12% compounded monthly.\n",
    "\n",
    "# Base period yearly\n",
    "n = 2 # number of years\n",
    "p = 12 # how many times compounded yearly\n",
    "i_base_nominal = 0.12 # nominal rate quaoted at base interval\n",
    "i_conv_effective = i_base_nominal/p # monthly effective rate\n",
    "C_conv = 100 # cash flow at conversion time unit\n",
    "\n",
    "# Calculate and display present value\n",
    "ca = annuity_pv(i_conv_effective, n*p, C_conv)\n",
    "display(ca)\n",
    "\n",
    "# Same using numpy's built in functions\n",
    "display(np.pv(rate = i_conv_effective, nper = n*p, pmt = -C_conv, fv = 0, when = 'end'))\n"
   ]
  },
  {
   "cell_type": "code",
   "execution_count": 22,
   "metadata": {},
   "outputs": [
    {
     "data": {
      "text/plain": [
       "1341.2089728127273"
      ]
     },
     "metadata": {},
     "output_type": "display_data"
    },
    {
     "data": {
      "text/plain": [
       "1341.2089728127273"
      ]
     },
     "metadata": {},
     "output_type": "display_data"
    }
   ],
   "source": [
    "# Test from http://www.zenwealth.com/BusinessFinanceOnline/TVM/OtherCompounding.html\n",
    "# Find the Future Value at the end of 3 years of an annuity of $100 per quarter for \n",
    "# 3 years if the interest rate is 8% compounded quarterly.\n",
    "\n",
    "# Base period yearly\n",
    "n = 3 # number of years\n",
    "p = 4 # how many times compounded yearly\n",
    "i_base_nominal = 0.08 # nominal rate quaoted at base interval\n",
    "i_conv_effective = i_base_nominal/p # quarterly effective rate\n",
    "C_conv = 100 # cash flow at conversion time unit\n",
    "\n",
    "# Calculate and display present value\n",
    "cs = annuity_fv(i_conv_effective, n*p, C_conv)\n",
    "display(cs)\n",
    "\n",
    "# Same using numpy's built in functions\n",
    "display(np.fv(rate = i_conv_effective, nper = n*p, pmt = -C_conv, pv = 0, when = 'end'))\n"
   ]
  },
  {
   "cell_type": "markdown",
   "metadata": {},
   "source": [
    "### Loan example from reference paper section 2.6"
   ]
  },
  {
   "cell_type": "code",
   "execution_count": 85,
   "metadata": {},
   "outputs": [
    {
     "name": "stdout",
     "output_type": "stream",
     "text": [
      "numpy pmt= 347.7617251391697, own function pmt = 347.7617251391697\n"
     ]
    },
    {
     "data": {
      "text/plain": [
       "<matplotlib.axes._subplots.AxesSubplot at 0x1ff733055c0>"
      ]
     },
     "execution_count": 85,
     "metadata": {},
     "output_type": "execute_result"
    },
    {
     "data": {
      "image/png": "[encoded data removed]",
      "text/plain": [
       "<matplotlib.figure.Figure at 0x1ff732f7d30>"
      ]
     },
     "metadata": {},
     "output_type": "display_data"
    }
   ],
   "source": [
    "# Base interval year\n",
    "pv = 2500 # loan amount\n",
    "i_conv_effective = 0.065 # effective conversion period interest rate\n",
    "n = 10 # number of conversion periods\n",
    "nper = n\n",
    "\n",
    "C_check = -np.pmt(rate = i_conv_effective, nper = nper, pv = pv, fv=0, when='end')\n",
    "C = annuity_pmt(rate = i_conv_effective, nper = nper, pv = pv)\n",
    "print(\"numpy pmt= {}, own function pmt = {}\".format(C_check,C))\n",
    "\n",
    "# Amount after k years\n",
    "years_l = []\n",
    "outs_l = []\n",
    "intr_part_l = []\n",
    "amorz_part_l = []\n",
    "for k in range(nper):\n",
    "    years_l.append(k)\n",
    "    #outs = -np.pv(rate = i_conv_effective, nper = nper-k, pmt = C, fv = 0, when = 'end')\n",
    "    outs = annuity_pv(rate = i_conv_effective, nper = nper-k, C = C)    \n",
    "    outs_l.append(outs)\n",
    "    if k != 0:\n",
    "        #intr_part = i_conv_effective * -np.pv(rate = i_conv_effective, nper = nper-k+1, pmt = C, fv = 0, when = 'end')\n",
    "        intr_part = i_conv_effective * annuity_pv(rate = i_conv_effective, nper = nper-k+1, C = C)\n",
    "        intr_part_l.append(intr_part)\n",
    "        amorz_part_l.append(C - intr_part)\n",
    "        continue\n",
    "    intr_part_l.append(np.nan)\n",
    "    amorz_part_l.append(np.nan)    \n",
    "    \n",
    "df = pd.DataFrame([years_l, outs_l, intr_part_l,amorz_part_l]).T\n",
    "df.columns = ['year','out_bal','interest_part','amortization_part']\n",
    "df['installment'] = C\n",
    "df['int_share'] = df['interest_part'] / df['installment']\n",
    "df['amort_share'] = df['amortization_part'] / df['installment']\n",
    "\n",
    "#display(df)\n",
    "\n",
    "df[['int_share','amort_share']].plot.bar(stacked = True)\n",
    "\n"
   ]
  },
  {
   "cell_type": "markdown",
   "metadata": {},
   "source": [
    "### Example mortgage loan with monthly conversion rate"
   ]
  },
  {
   "cell_type": "code",
   "execution_count": 115,
   "metadata": {},
   "outputs": [
    {
     "name": "stdout",
     "output_type": "stream",
     "text": [
      "numpy pmt= 1443.9277404752143, own function pmt = 1443.9277404752143\n"
     ]
    },
    {
     "data": {
      "image/png": "[encoded data removed]",
      "text/plain": [
       "<matplotlib.figure.Figure at 0x1ff79eeaf98>"
      ]
     },
     "metadata": {},
     "output_type": "display_data"
    }
   ],
   "source": [
    "# Base interval year\n",
    "pv = 270000 # loan amount\n",
    "i_base_nominal = 0.026 # nominal rate quoted p.a.\n",
    "i_conv_effective = i_base_nominal/p # monthly effective rate\n",
    "n = 20 # number of years\n",
    "p = 12 # months in a year\n",
    "nper = n*p # number of conversion periods\n",
    "\n",
    "C_check = -np.pmt(rate = i_conv_effective, nper = nper, pv = pv, fv=0, when='end')\n",
    "C = annuity_pmt(rate = i_conv_effective, nper = nper, pv = pv)\n",
    "print(\"numpy pmt= {}, own function pmt = {}\".format(C_check,C))\n",
    "\n",
    "# Amount after k years\n",
    "years_l = []\n",
    "outs_l = []\n",
    "intr_part_l = []\n",
    "amorz_part_l = []\n",
    "for k in range(nper):\n",
    "    years_l.append(k)\n",
    "    #outs = -np.pv(rate = i_conv_effective, nper = nper-k, pmt = C, fv = 0, when = 'end')\n",
    "    outs = annuity_pv(rate = i_conv_effective, nper = nper-k, C = C)    \n",
    "    outs_l.append(outs)\n",
    "    if k != 0:\n",
    "        #intr_part = i_conv_effective * -np.pv(rate = i_conv_effective, nper = nper-k+1, pmt = C, fv = 0, when = 'end')\n",
    "        intr_part = i_conv_effective * annuity_pv(rate = i_conv_effective, nper = nper-k+1, C = C)\n",
    "        intr_part_l.append(intr_part)\n",
    "        amorz_part_l.append(C - intr_part)\n",
    "        continue\n",
    "    intr_part_l.append(np.nan)\n",
    "    amorz_part_l.append(np.nan)    \n",
    "    \n",
    "df = pd.DataFrame([years_l, outs_l, intr_part_l,amorz_part_l]).T\n",
    "df.columns = ['year','out_bal','interest_part','amortization_part']\n",
    "df['installment'] = C\n",
    "df['int_share'] = df['interest_part'] / df['installment']\n",
    "df['amort_share'] = df['amortization_part'] / df['installment']\n",
    "\n",
    "fig = plt.figure(figsize=(15,7))\n",
    "ax = fig.add_subplot(1,1,1)\n",
    "df[['interest_part','amortization_part']].plot.bar(stacked = True, ax = ax)\n",
    "every_nth = 12\n",
    "for n, label in enumerate(ax.xaxis.get_ticklabels()):\n",
    "    if n % every_nth != 0:\n",
    "        label.set_visible(False)\n"
   ]
  },
  {
   "cell_type": "code",
   "execution_count": null,
   "metadata": {},
   "outputs": [],
   "source": []
  },
  {
   "cell_type": "code",
   "execution_count": null,
   "metadata": {},
   "outputs": [],
   "source": []
  }
 ],
 "metadata": {
  "kernelspec": {
   "display_name": "Python [default]",
   "language": "python",
   "name": "python3"
  },
  "language_info": {
   "codemirror_mode": {
    "name": "ipython",
    "version": 3
   },
   "file_extension": ".py",
   "mimetype": "text/x-python",
   "name": "python",
   "nbconvert_exporter": "python",
   "pygments_lexer": "ipython3",
   "version": "3.5.4"
  }
 },
 "nbformat": 4,
 "nbformat_minor": 2
}
