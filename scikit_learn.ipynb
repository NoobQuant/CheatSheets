{
 "cells": [
  {
   "cell_type": "markdown",
   "metadata": {},
   "source": [
    "<h2>Prepare data - binary classification</h2>"
   ]
  },
  {
   "cell_type": "code",
   "execution_count": null,
   "metadata": {
    "collapsed": true
   },
   "outputs": [],
   "source": [
    "df_model = pd.concat([\n",
    "             df['ExplainedVar']\n",
    "            ,df['ExplainingVar1']\n",
    "            ,df['ExplainingVar2']    \n",
    "        ],axis=1)\n",
    "y = df_model['ExplainedVar']\n",
    "df_model.drop(['ExplainedVar'], axis = 1, inplace = True)\n",
    "X = df_model\n",
    "X_train, X_test, y_train, y_test = \\\n",
    "     train_test_split(X, y, test_size=0.20, random_state=42)\n",
    "    \n",
    "print(\"By predicting always 0 we will achieve {0:.2f} percent accuracy in train sample\".format(100 * len(y_train[y_train == 0]) / len(y_train)))\n",
    "print(\"By predicting always 0 we will achieve {0:.2f} percent accuracy in test sample\".format(100 * len(y_test[y_test == 0]) / len(y_test)))    "
   ]
  },
  {
   "cell_type": "markdown",
   "metadata": {},
   "source": [
    "<h2>Logistic regression</h2>"
   ]
  },
  {
   "cell_type": "code",
   "execution_count": null,
   "metadata": {
    "collapsed": true
   },
   "outputs": [],
   "source": [
    "from sklearn.linear_model import LogisticRegression\n",
    "\n",
    "logreg = LogisticRegression()\n",
    "logreg.fit(X_train, y_train)\n",
    "y_pred = logreg.predict(X_test)\n",
    "tn, fp, fn, tp = confusion_matrix(y_test, y_pred).ravel()\n",
    "\n",
    "print(\"Accuracy in train sample is {0:.2f} percent\".format(logreg.score(X_train, y_train) * 100))\n",
    "print(\"Accuracy in test sample is {0:.2f} percent\".format(100 * accuracy_score(y_test, y_pred)))\n",
    "print(\"Confusion matrix: TN = {0:.0f}, FP = {1:.0f}, FN = {2:.0f}, TP = {3:.0f}, \".format(tn,fp,fn,tp))"
   ]
  }
 ],
 "metadata": {
  "kernelspec": {
   "display_name": "Python 3",
   "language": "python",
   "name": "python3"
  },
  "language_info": {
   "codemirror_mode": {
    "name": "ipython",
    "version": 3
   },
   "file_extension": ".py",
   "mimetype": "text/x-python",
   "name": "python",
   "nbconvert_exporter": "python",
   "pygments_lexer": "ipython3",
   "version": "3.6.0"
  }
 },
 "nbformat": 4,
 "nbformat_minor": 2
}
