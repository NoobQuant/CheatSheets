

<h4> Import Excel

import pandas as pd
path = r'C:\myfolder'
file = 'myfile.xlsx'
df = pd.read_excel(os.path.join(path,file))


