{
 "cells": [
  {
   "cell_type": "markdown",
   "metadata": {},
   "source": [
    "<h3>Initialize data frame</h3>"
   ]
  },
  {
   "cell_type": "code",
   "execution_count": 1,
   "metadata": {
    "collapsed": false
   },
   "outputs": [
    {
     "data": {
      "text/html": [
       "<div>\n",
       "<table border=\"1\" class=\"dataframe\">\n",
       "  <thead>\n",
       "    <tr style=\"text-align: right;\">\n",
       "      <th></th>\n",
       "      <th>ff</th>\n",
       "      <th>ee</th>\n",
       "      <th>tt</th>\n",
       "      <th>uuu</th>\n",
       "    </tr>\n",
       "  </thead>\n",
       "  <tbody>\n",
       "    <tr>\n",
       "      <th>0</th>\n",
       "      <td>0.597796</td>\n",
       "      <td>0.355494</td>\n",
       "      <td>0.886386</td>\n",
       "      <td>0.721845</td>\n",
       "    </tr>\n",
       "    <tr>\n",
       "      <th>1</th>\n",
       "      <td>0.164886</td>\n",
       "      <td>0.330527</td>\n",
       "      <td>0.504979</td>\n",
       "      <td>0.033931</td>\n",
       "    </tr>\n",
       "    <tr>\n",
       "      <th>2</th>\n",
       "      <td>0.991173</td>\n",
       "      <td>0.378892</td>\n",
       "      <td>0.556317</td>\n",
       "      <td>0.685392</td>\n",
       "    </tr>\n",
       "    <tr>\n",
       "      <th>3</th>\n",
       "      <td>0.521153</td>\n",
       "      <td>0.914954</td>\n",
       "      <td>0.385518</td>\n",
       "      <td>0.079338</td>\n",
       "    </tr>\n",
       "  </tbody>\n",
       "</table>\n",
       "</div>"
      ],
      "text/plain": [
       "         ff        ee        tt       uuu\n",
       "0  0.597796  0.355494  0.886386  0.721845\n",
       "1  0.164886  0.330527  0.504979  0.033931\n",
       "2  0.991173  0.378892  0.556317  0.685392\n",
       "3  0.521153  0.914954  0.385518  0.079338"
      ]
     },
     "metadata": {},
     "output_type": "display_data"
    }
   ],
   "source": [
    "import pandas as pd\n",
    "import numpy as np\n",
    "from IPython.display import display\n",
    "\n",
    "df = pd.DataFrame(np.random.rand(4,4), columns = ['ff', 'ee', 'tt', 'uuu'])\n",
    "display(df)"
   ]
  },
  {
   "cell_type": "code",
   "execution_count": 2,
   "metadata": {
    "collapsed": false,
    "scrolled": true
   },
   "outputs": [
    {
     "data": {
      "text/html": [
       "<div>\n",
       "<table border=\"1\" class=\"dataframe\">\n",
       "  <thead>\n",
       "    <tr style=\"text-align: right;\">\n",
       "      <th></th>\n",
       "      <th>ID</th>\n",
       "      <th>Names</th>\n",
       "      <th>Age</th>\n",
       "      <th>Values</th>\n",
       "      <th>Country</th>\n",
       "    </tr>\n",
       "  </thead>\n",
       "  <tbody>\n",
       "    <tr>\n",
       "      <th>0</th>\n",
       "      <td>1</td>\n",
       "      <td>Kate</td>\n",
       "      <td>50</td>\n",
       "      <td>3</td>\n",
       "      <td>NaN</td>\n",
       "    </tr>\n",
       "    <tr>\n",
       "      <th>1</th>\n",
       "      <td>2</td>\n",
       "      <td>John</td>\n",
       "      <td>25</td>\n",
       "      <td>4</td>\n",
       "      <td>NaN</td>\n",
       "    </tr>\n",
       "    <tr>\n",
       "      <th>2</th>\n",
       "      <td>3</td>\n",
       "      <td>Max</td>\n",
       "      <td>41</td>\n",
       "      <td>8</td>\n",
       "      <td>NaN</td>\n",
       "    </tr>\n",
       "  </tbody>\n",
       "</table>\n",
       "</div>"
      ],
      "text/plain": [
       "   ID Names  Age  Values Country\n",
       "0   1  Kate   50       3     NaN\n",
       "1   2  John   25       4     NaN\n",
       "2   3   Max   41       8     NaN"
      ]
     },
     "metadata": {},
     "output_type": "display_data"
    },
    {
     "data": {
      "text/html": [
       "<div>\n",
       "<table border=\"1\" class=\"dataframe\">\n",
       "  <thead>\n",
       "    <tr style=\"text-align: right;\">\n",
       "      <th></th>\n",
       "      <th>Names</th>\n",
       "      <th>Age</th>\n",
       "      <th>Values</th>\n",
       "      <th>Country</th>\n",
       "    </tr>\n",
       "  </thead>\n",
       "  <tbody>\n",
       "    <tr>\n",
       "      <th>1</th>\n",
       "      <td>Kate</td>\n",
       "      <td>50</td>\n",
       "      <td>3</td>\n",
       "      <td>NaN</td>\n",
       "    </tr>\n",
       "    <tr>\n",
       "      <th>2</th>\n",
       "      <td>John</td>\n",
       "      <td>25</td>\n",
       "      <td>4</td>\n",
       "      <td>NaN</td>\n",
       "    </tr>\n",
       "    <tr>\n",
       "      <th>3</th>\n",
       "      <td>Max</td>\n",
       "      <td>41</td>\n",
       "      <td>8</td>\n",
       "      <td>NaN</td>\n",
       "    </tr>\n",
       "  </tbody>\n",
       "</table>\n",
       "</div>"
      ],
      "text/plain": [
       "  Names  Age  Values Country\n",
       "1  Kate   50       3     NaN\n",
       "2  John   25       4     NaN\n",
       "3   Max   41       8     NaN"
      ]
     },
     "metadata": {},
     "output_type": "display_data"
    }
   ],
   "source": [
    "data = {'ID': [1, 2, 3],'Names': ['Kate', 'John', 'Max'],'Age': [50, 25, 41], 'Values': [3, 4, 8]}\n",
    "df = pd.DataFrame(data=data, columns = ['ID', 'Names', 'Age', 'Values', 'Country'])\n",
    "display(df)\n",
    "df.set_index('ID',inplace=True)\n",
    "df.index.name = None # remove index name\n",
    "display(df)"
   ]
  },
  {
   "cell_type": "markdown",
   "metadata": {},
   "source": [
    "<h3>Slicing data frame</h3>"
   ]
  },
  {
   "cell_type": "code",
   "execution_count": 3,
   "metadata": {
    "collapsed": false
   },
   "outputs": [
    {
     "name": "stdout",
     "output_type": "stream",
     "text": [
      "The data frame\n"
     ]
    },
    {
     "data": {
      "text/html": [
       "<div>\n",
       "<table border=\"1\" class=\"dataframe\">\n",
       "  <thead>\n",
       "    <tr style=\"text-align: right;\">\n",
       "      <th></th>\n",
       "      <th>ff</th>\n",
       "      <th>ee</th>\n",
       "      <th>tt</th>\n",
       "      <th>uuu</th>\n",
       "    </tr>\n",
       "  </thead>\n",
       "  <tbody>\n",
       "    <tr>\n",
       "      <th>first</th>\n",
       "      <td>0.774571</td>\n",
       "      <td>0.875179</td>\n",
       "      <td>0.816230</td>\n",
       "      <td>0.016936</td>\n",
       "    </tr>\n",
       "    <tr>\n",
       "      <th>second</th>\n",
       "      <td>0.313244</td>\n",
       "      <td>0.162631</td>\n",
       "      <td>0.476464</td>\n",
       "      <td>0.220910</td>\n",
       "    </tr>\n",
       "    <tr>\n",
       "      <th>third</th>\n",
       "      <td>0.754587</td>\n",
       "      <td>0.386446</td>\n",
       "      <td>0.827384</td>\n",
       "      <td>0.745314</td>\n",
       "    </tr>\n",
       "    <tr>\n",
       "      <th>fourth</th>\n",
       "      <td>0.842574</td>\n",
       "      <td>0.408784</td>\n",
       "      <td>0.442023</td>\n",
       "      <td>0.130590</td>\n",
       "    </tr>\n",
       "  </tbody>\n",
       "</table>\n",
       "</div>"
      ],
      "text/plain": [
       "              ff        ee        tt       uuu\n",
       "first   0.774571  0.875179  0.816230  0.016936\n",
       "second  0.313244  0.162631  0.476464  0.220910\n",
       "third   0.754587  0.386446  0.827384  0.745314\n",
       "fourth  0.842574  0.408784  0.442023  0.130590"
      ]
     },
     "metadata": {},
     "output_type": "display_data"
    },
    {
     "name": "stdout",
     "output_type": "stream",
     "text": [
      "Selecting columns\n"
     ]
    },
    {
     "data": {
      "text/html": [
       "<div>\n",
       "<table border=\"1\" class=\"dataframe\">\n",
       "  <thead>\n",
       "    <tr style=\"text-align: right;\">\n",
       "      <th></th>\n",
       "      <th>ee</th>\n",
       "      <th>tt</th>\n",
       "    </tr>\n",
       "  </thead>\n",
       "  <tbody>\n",
       "    <tr>\n",
       "      <th>first</th>\n",
       "      <td>0.875179</td>\n",
       "      <td>0.816230</td>\n",
       "    </tr>\n",
       "    <tr>\n",
       "      <th>second</th>\n",
       "      <td>0.162631</td>\n",
       "      <td>0.476464</td>\n",
       "    </tr>\n",
       "    <tr>\n",
       "      <th>third</th>\n",
       "      <td>0.386446</td>\n",
       "      <td>0.827384</td>\n",
       "    </tr>\n",
       "    <tr>\n",
       "      <th>fourth</th>\n",
       "      <td>0.408784</td>\n",
       "      <td>0.442023</td>\n",
       "    </tr>\n",
       "  </tbody>\n",
       "</table>\n",
       "</div>"
      ],
      "text/plain": [
       "              ee        tt\n",
       "first   0.875179  0.816230\n",
       "second  0.162631  0.476464\n",
       "third   0.386446  0.827384\n",
       "fourth  0.408784  0.442023"
      ]
     },
     "metadata": {},
     "output_type": "display_data"
    },
    {
     "data": {
      "text/plain": [
       "first     0.774571\n",
       "second    0.313244\n",
       "third     0.754587\n",
       "fourth    0.842574\n",
       "Name: ff, dtype: float64"
      ]
     },
     "metadata": {},
     "output_type": "display_data"
    },
    {
     "name": "stdout",
     "output_type": "stream",
     "text": [
      "Selecting rows\n"
     ]
    },
    {
     "data": {
      "text/html": [
       "<div>\n",
       "<table border=\"1\" class=\"dataframe\">\n",
       "  <thead>\n",
       "    <tr style=\"text-align: right;\">\n",
       "      <th></th>\n",
       "      <th>ff</th>\n",
       "      <th>ee</th>\n",
       "      <th>tt</th>\n",
       "      <th>uuu</th>\n",
       "    </tr>\n",
       "  </thead>\n",
       "  <tbody>\n",
       "    <tr>\n",
       "      <th>first</th>\n",
       "      <td>0.774571</td>\n",
       "      <td>0.875179</td>\n",
       "      <td>0.816230</td>\n",
       "      <td>0.016936</td>\n",
       "    </tr>\n",
       "    <tr>\n",
       "      <th>fourth</th>\n",
       "      <td>0.842574</td>\n",
       "      <td>0.408784</td>\n",
       "      <td>0.442023</td>\n",
       "      <td>0.130590</td>\n",
       "    </tr>\n",
       "  </tbody>\n",
       "</table>\n",
       "</div>"
      ],
      "text/plain": [
       "              ff        ee        tt       uuu\n",
       "first   0.774571  0.875179  0.816230  0.016936\n",
       "fourth  0.842574  0.408784  0.442023  0.130590"
      ]
     },
     "metadata": {},
     "output_type": "display_data"
    },
    {
     "data": {
      "text/html": [
       "<div>\n",
       "<table border=\"1\" class=\"dataframe\">\n",
       "  <thead>\n",
       "    <tr style=\"text-align: right;\">\n",
       "      <th></th>\n",
       "      <th>ff</th>\n",
       "      <th>ee</th>\n",
       "      <th>tt</th>\n",
       "      <th>uuu</th>\n",
       "    </tr>\n",
       "  </thead>\n",
       "  <tbody>\n",
       "    <tr>\n",
       "      <th>first</th>\n",
       "      <td>0.774571</td>\n",
       "      <td>0.875179</td>\n",
       "      <td>0.816230</td>\n",
       "      <td>0.016936</td>\n",
       "    </tr>\n",
       "    <tr>\n",
       "      <th>second</th>\n",
       "      <td>0.313244</td>\n",
       "      <td>0.162631</td>\n",
       "      <td>0.476464</td>\n",
       "      <td>0.220910</td>\n",
       "    </tr>\n",
       "    <tr>\n",
       "      <th>third</th>\n",
       "      <td>0.754587</td>\n",
       "      <td>0.386446</td>\n",
       "      <td>0.827384</td>\n",
       "      <td>0.745314</td>\n",
       "    </tr>\n",
       "  </tbody>\n",
       "</table>\n",
       "</div>"
      ],
      "text/plain": [
       "              ff        ee        tt       uuu\n",
       "first   0.774571  0.875179  0.816230  0.016936\n",
       "second  0.313244  0.162631  0.476464  0.220910\n",
       "third   0.754587  0.386446  0.827384  0.745314"
      ]
     },
     "metadata": {},
     "output_type": "display_data"
    },
    {
     "data": {
      "text/plain": [
       "ff     0.774571\n",
       "ee     0.875179\n",
       "tt     0.816230\n",
       "uuu    0.016936\n",
       "Name: first, dtype: float64"
      ]
     },
     "metadata": {},
     "output_type": "display_data"
    }
   ],
   "source": [
    "import numpy as np\n",
    "from IPython.display import display\n",
    "\n",
    "df = pd.DataFrame(np.random.rand(4,4), columns = ['ff', 'ee', 'tt', 'uuu'], index = ['first','second','third','fourth'])\n",
    "\n",
    "print('The data frame')\n",
    "display(df)\n",
    "\n",
    "print('Selecting columns')\n",
    "df['ff']\n",
    "df[['ff','tt']]\n",
    "display(df.loc[:,['ee','tt']])\n",
    "display(df.iloc[:,0]) # by position in frame\n",
    "\n",
    "print('Selecting rows')\n",
    "display(df.loc[['first','fourth']])\n",
    "display(df[0:3])\n",
    "display(df.iloc[0]) # by position in frame\n"
   ]
  },
  {
   "cell_type": "markdown",
   "metadata": {},
   "source": [
    "<h3>Mappings for data frame columns</h3>"
   ]
  },
  {
   "cell_type": "code",
   "execution_count": 4,
   "metadata": {
    "collapsed": false
   },
   "outputs": [
    {
     "data": {
      "text/html": [
       "<div>\n",
       "<table border=\"1\" class=\"dataframe\">\n",
       "  <thead>\n",
       "    <tr style=\"text-align: right;\">\n",
       "      <th></th>\n",
       "      <th>Age</th>\n",
       "      <th>ID</th>\n",
       "      <th>Names</th>\n",
       "      <th>Values</th>\n",
       "      <th>AgeOrder</th>\n",
       "    </tr>\n",
       "  </thead>\n",
       "  <tbody>\n",
       "    <tr>\n",
       "      <th>0</th>\n",
       "      <td>50</td>\n",
       "      <td>1</td>\n",
       "      <td>Kate</td>\n",
       "      <td>3</td>\n",
       "      <td>2</td>\n",
       "    </tr>\n",
       "    <tr>\n",
       "      <th>1</th>\n",
       "      <td>25</td>\n",
       "      <td>2</td>\n",
       "      <td>John</td>\n",
       "      <td>4</td>\n",
       "      <td>0</td>\n",
       "    </tr>\n",
       "    <tr>\n",
       "      <th>2</th>\n",
       "      <td>41</td>\n",
       "      <td>3</td>\n",
       "      <td>Max</td>\n",
       "      <td>8</td>\n",
       "      <td>1</td>\n",
       "    </tr>\n",
       "    <tr>\n",
       "      <th>3</th>\n",
       "      <td>89</td>\n",
       "      <td>4</td>\n",
       "      <td>Kate</td>\n",
       "      <td>12</td>\n",
       "      <td>3</td>\n",
       "    </tr>\n",
       "  </tbody>\n",
       "</table>\n",
       "</div>"
      ],
      "text/plain": [
       "   Age  ID Names  Values  AgeOrder\n",
       "0   50   1  Kate       3         2\n",
       "1   25   2  John       4         0\n",
       "2   41   3   Max       8         1\n",
       "3   89   4  Kate      12         3"
      ]
     },
     "execution_count": 4,
     "metadata": {},
     "output_type": "execute_result"
    }
   ],
   "source": [
    "# Mapping from user defined dict\n",
    "import pandas as pd\n",
    "data = {'ID': [1, 2, 3,4],'Names': ['Kate', 'John', 'Max','Kate'],'Age': [50, 25, 41,89], 'Values': [3, 4, 8, 12]}\n",
    "df = pd.DataFrame(data=data)\n",
    "age_mapping = {25:0, 41:1, 50:2, 89:3}\n",
    "df['AgeOrder'] = df['Age'].map(age_mapping)\n",
    "df"
   ]
  },
  {
   "cell_type": "code",
   "execution_count": 5,
   "metadata": {
    "collapsed": false
   },
   "outputs": [
    {
     "data": {
      "text/html": [
       "<div>\n",
       "<table border=\"1\" class=\"dataframe\">\n",
       "  <thead>\n",
       "    <tr style=\"text-align: right;\">\n",
       "      <th></th>\n",
       "      <th>Age</th>\n",
       "      <th>ID</th>\n",
       "      <th>Names</th>\n",
       "      <th>Values</th>\n",
       "      <th>AgeOrder</th>\n",
       "      <th>NameID</th>\n",
       "    </tr>\n",
       "  </thead>\n",
       "  <tbody>\n",
       "    <tr>\n",
       "      <th>0</th>\n",
       "      <td>50</td>\n",
       "      <td>1</td>\n",
       "      <td>Kate</td>\n",
       "      <td>3</td>\n",
       "      <td>2</td>\n",
       "      <td>0</td>\n",
       "    </tr>\n",
       "    <tr>\n",
       "      <th>1</th>\n",
       "      <td>25</td>\n",
       "      <td>2</td>\n",
       "      <td>John</td>\n",
       "      <td>4</td>\n",
       "      <td>0</td>\n",
       "      <td>1</td>\n",
       "    </tr>\n",
       "    <tr>\n",
       "      <th>2</th>\n",
       "      <td>41</td>\n",
       "      <td>3</td>\n",
       "      <td>Max</td>\n",
       "      <td>8</td>\n",
       "      <td>1</td>\n",
       "      <td>2</td>\n",
       "    </tr>\n",
       "    <tr>\n",
       "      <th>3</th>\n",
       "      <td>89</td>\n",
       "      <td>4</td>\n",
       "      <td>Kate</td>\n",
       "      <td>12</td>\n",
       "      <td>3</td>\n",
       "      <td>0</td>\n",
       "    </tr>\n",
       "  </tbody>\n",
       "</table>\n",
       "</div>"
      ],
      "text/plain": [
       "   Age  ID Names  Values  AgeOrder  NameID\n",
       "0   50   1  Kate       3         2       0\n",
       "1   25   2  John       4         0       1\n",
       "2   41   3   Max       8         1       2\n",
       "3   89   4  Kate      12         3       0"
      ]
     },
     "execution_count": 5,
     "metadata": {},
     "output_type": "execute_result"
    }
   ],
   "source": [
    "# Map unique column values to index values\n",
    "d = {key: value for (key, value) in zip(df['Names'].unique(),range(len(df['Names'].unique())))}\n",
    "df['NameID'] = df['Names'].map(d)\n",
    "df"
   ]
  },
  {
   "cell_type": "markdown",
   "metadata": {},
   "source": [
    "<h3>Dropping fom data frame</h3>"
   ]
  },
  {
   "cell_type": "code",
   "execution_count": 6,
   "metadata": {
    "collapsed": false
   },
   "outputs": [
    {
     "data": {
      "text/html": [
       "<div>\n",
       "<table border=\"1\" class=\"dataframe\">\n",
       "  <thead>\n",
       "    <tr style=\"text-align: right;\">\n",
       "      <th></th>\n",
       "      <th>Age</th>\n",
       "      <th>ID</th>\n",
       "      <th>Names</th>\n",
       "      <th>Values</th>\n",
       "    </tr>\n",
       "  </thead>\n",
       "  <tbody>\n",
       "    <tr>\n",
       "      <th>a</th>\n",
       "      <td>50</td>\n",
       "      <td>1</td>\n",
       "      <td>Kate</td>\n",
       "      <td>3</td>\n",
       "    </tr>\n",
       "    <tr>\n",
       "      <th>b</th>\n",
       "      <td>25</td>\n",
       "      <td>2</td>\n",
       "      <td>John</td>\n",
       "      <td>4</td>\n",
       "    </tr>\n",
       "    <tr>\n",
       "      <th>c</th>\n",
       "      <td>41</td>\n",
       "      <td>3</td>\n",
       "      <td>Max</td>\n",
       "      <td>8</td>\n",
       "    </tr>\n",
       "  </tbody>\n",
       "</table>\n",
       "</div>"
      ],
      "text/plain": [
       "   Age  ID Names  Values\n",
       "a   50   1  Kate       3\n",
       "b   25   2  John       4\n",
       "c   41   3   Max       8"
      ]
     },
     "metadata": {},
     "output_type": "display_data"
    },
    {
     "data": {
      "text/html": [
       "<div>\n",
       "<table border=\"1\" class=\"dataframe\">\n",
       "  <thead>\n",
       "    <tr style=\"text-align: right;\">\n",
       "      <th></th>\n",
       "      <th>Values</th>\n",
       "    </tr>\n",
       "  </thead>\n",
       "  <tbody>\n",
       "    <tr>\n",
       "      <th>c</th>\n",
       "      <td>8</td>\n",
       "    </tr>\n",
       "  </tbody>\n",
       "</table>\n",
       "</div>"
      ],
      "text/plain": [
       "   Values\n",
       "c       8"
      ]
     },
     "metadata": {},
     "output_type": "display_data"
    }
   ],
   "source": [
    "import pandas as pd\n",
    "from IPython.display import display\n",
    "data = {'ID': [1, 2, 3],'Names': ['Kate', 'John', 'Max'],'Age': [50, 25, 41], 'Values': [3, 4, 8]}\n",
    "df = pd.DataFrame(data=data, index = ['a','b','c'])\n",
    "display(df)\n",
    "\n",
    "# Drop columns by column label\n",
    "df.drop(['Age', 'Names'], axis = 1, inplace = True)\n",
    "\n",
    "# Drop column by fancy indexing\n",
    "df.drop(df.columns[0], axis = 1, inplace = True)\n",
    "\n",
    "# Drop rows by index label\n",
    "df.drop(['b'], axis = 0 , inplace = True)\n",
    "\n",
    "# Drop rows by index number\n",
    "df.drop(df.index[[0]], axis = 0 , inplace = True)\n",
    "\n",
    "display(df)"
   ]
  },
  {
   "cell_type": "markdown",
   "metadata": {},
   "source": [
    "<h2>Aggregating data frame</h2>"
   ]
  },
  {
   "cell_type": "code",
   "execution_count": 7,
   "metadata": {
    "collapsed": false
   },
   "outputs": [
    {
     "name": "stdout",
     "output_type": "stream",
     "text": [
      "The data frame\n"
     ]
    },
    {
     "data": {
      "text/html": [
       "<div>\n",
       "<table border=\"1\" class=\"dataframe\">\n",
       "  <thead>\n",
       "    <tr style=\"text-align: right;\">\n",
       "      <th></th>\n",
       "      <th>ff</th>\n",
       "      <th>ee</th>\n",
       "      <th>tt</th>\n",
       "      <th>uuu</th>\n",
       "    </tr>\n",
       "  </thead>\n",
       "  <tbody>\n",
       "    <tr>\n",
       "      <th>first</th>\n",
       "      <td>0.708487</td>\n",
       "      <td>NaN</td>\n",
       "      <td>0.232488</td>\n",
       "      <td>0.000689</td>\n",
       "    </tr>\n",
       "    <tr>\n",
       "      <th>second</th>\n",
       "      <td>0.412380</td>\n",
       "      <td>NaN</td>\n",
       "      <td>0.609906</td>\n",
       "      <td>0.233965</td>\n",
       "    </tr>\n",
       "    <tr>\n",
       "      <th>third</th>\n",
       "      <td>0.427902</td>\n",
       "      <td>0.075782</td>\n",
       "      <td>0.645744</td>\n",
       "      <td>0.633493</td>\n",
       "    </tr>\n",
       "    <tr>\n",
       "      <th>fourth</th>\n",
       "      <td>0.506208</td>\n",
       "      <td>0.205261</td>\n",
       "      <td>0.836643</td>\n",
       "      <td>0.775193</td>\n",
       "    </tr>\n",
       "  </tbody>\n",
       "</table>\n",
       "</div>"
      ],
      "text/plain": [
       "              ff        ee        tt       uuu\n",
       "first   0.708487       NaN  0.232488  0.000689\n",
       "second  0.412380       NaN  0.609906  0.233965\n",
       "third   0.427902  0.075782  0.645744  0.633493\n",
       "fourth  0.506208  0.205261  0.836643  0.775193"
      ]
     },
     "metadata": {},
     "output_type": "display_data"
    },
    {
     "name": "stdout",
     "output_type": "stream",
     "text": [
      "Mean by column, chnage axis=0 to get rows\n"
     ]
    },
    {
     "data": {
      "text/plain": [
       "first          NaN\n",
       "second         NaN\n",
       "third     0.445730\n",
       "fourth    0.580826\n",
       "dtype: float64"
      ]
     },
     "metadata": {},
     "output_type": "display_data"
    },
    {
     "data": {
      "text/plain": [
       "first     0.313888\n",
       "second    0.418750\n",
       "third     0.445730\n",
       "fourth    0.580826\n",
       "dtype: float64"
      ]
     },
     "metadata": {},
     "output_type": "display_data"
    }
   ],
   "source": [
    "import pandas as pd\n",
    "import numpy as np\n",
    "from IPython.display import display\n",
    "\n",
    "df = pd.DataFrame(np.random.rand(4,4), columns = ['ff', 'ee', 'tt', 'uuu'], index = ['first','second','third','fourth'])\n",
    "df.iloc[:2,1] = np.nan\n",
    "\n",
    "print('The data frame')\n",
    "display(df)\n",
    "\n",
    "print('Mean by column, chnage axis=0 to get rows')\n",
    "display(df.mean(axis=1, skipna=False))\n",
    "display(df.mean(axis=1, skipna=True))\n"
   ]
  },
  {
   "cell_type": "markdown",
   "metadata": {},
   "source": [
    "<h2>Data cleaning</h2>"
   ]
  },
  {
   "cell_type": "code",
   "execution_count": 8,
   "metadata": {
    "collapsed": false
   },
   "outputs": [
    {
     "data": {
      "text/html": [
       "<div>\n",
       "<table border=\"1\" class=\"dataframe\">\n",
       "  <thead>\n",
       "    <tr style=\"text-align: right;\">\n",
       "      <th></th>\n",
       "      <th>ff</th>\n",
       "      <th>ee</th>\n",
       "      <th>tt</th>\n",
       "      <th>uuu</th>\n",
       "    </tr>\n",
       "  </thead>\n",
       "  <tbody>\n",
       "    <tr>\n",
       "      <th>first</th>\n",
       "      <td>0.166914</td>\n",
       "      <td>0.606136</td>\n",
       "      <td>0.182982</td>\n",
       "      <td>0.676472</td>\n",
       "    </tr>\n",
       "    <tr>\n",
       "      <th>second</th>\n",
       "      <td>0.735339</td>\n",
       "      <td>0.599391</td>\n",
       "      <td>0.411002</td>\n",
       "      <td>0.280654</td>\n",
       "    </tr>\n",
       "    <tr>\n",
       "      <th>third</th>\n",
       "      <td>0.855802</td>\n",
       "      <td>NaN</td>\n",
       "      <td>0.492494</td>\n",
       "      <td>0.991136</td>\n",
       "    </tr>\n",
       "    <tr>\n",
       "      <th>fourth</th>\n",
       "      <td>0.589054</td>\n",
       "      <td>0.436399</td>\n",
       "      <td>0.271990</td>\n",
       "      <td>0.464906</td>\n",
       "    </tr>\n",
       "  </tbody>\n",
       "</table>\n",
       "</div>"
      ],
      "text/plain": [
       "              ff        ee        tt       uuu\n",
       "first   0.166914  0.606136  0.182982  0.676472\n",
       "second  0.735339  0.599391  0.411002  0.280654\n",
       "third   0.855802       NaN  0.492494  0.991136\n",
       "fourth  0.589054  0.436399  0.271990  0.464906"
      ]
     },
     "metadata": {},
     "output_type": "display_data"
    },
    {
     "data": {
      "text/html": [
       "<div>\n",
       "<table border=\"1\" class=\"dataframe\">\n",
       "  <thead>\n",
       "    <tr style=\"text-align: right;\">\n",
       "      <th></th>\n",
       "      <th>ff</th>\n",
       "      <th>ee</th>\n",
       "      <th>tt</th>\n",
       "      <th>uuu</th>\n",
       "    </tr>\n",
       "  </thead>\n",
       "  <tbody>\n",
       "    <tr>\n",
       "      <th>first</th>\n",
       "      <td>0.166914</td>\n",
       "      <td>0.606136</td>\n",
       "      <td>0.182982</td>\n",
       "      <td>0.676472</td>\n",
       "    </tr>\n",
       "    <tr>\n",
       "      <th>second</th>\n",
       "      <td>0.735339</td>\n",
       "      <td>0.599391</td>\n",
       "      <td>0.411002</td>\n",
       "      <td>0.280654</td>\n",
       "    </tr>\n",
       "    <tr>\n",
       "      <th>third</th>\n",
       "      <td>0.855802</td>\n",
       "      <td>0.547309</td>\n",
       "      <td>0.492494</td>\n",
       "      <td>0.991136</td>\n",
       "    </tr>\n",
       "    <tr>\n",
       "      <th>fourth</th>\n",
       "      <td>0.589054</td>\n",
       "      <td>0.436399</td>\n",
       "      <td>0.271990</td>\n",
       "      <td>0.464906</td>\n",
       "    </tr>\n",
       "  </tbody>\n",
       "</table>\n",
       "</div>"
      ],
      "text/plain": [
       "              ff        ee        tt       uuu\n",
       "first   0.166914  0.606136  0.182982  0.676472\n",
       "second  0.735339  0.599391  0.411002  0.280654\n",
       "third   0.855802  0.547309  0.492494  0.991136\n",
       "fourth  0.589054  0.436399  0.271990  0.464906"
      ]
     },
     "metadata": {},
     "output_type": "display_data"
    }
   ],
   "source": [
    "import pandas as pd\n",
    "import numpy as np\n",
    "from IPython.display import display\n",
    "\n",
    "df = pd.DataFrame(np.random.rand(4,4), columns = ['ff', 'ee', 'tt', 'uuu'], index = ['first','second','third','fourth'])\n",
    "df.iloc[2,1] = np.nan\n",
    "display(df)\n",
    "df.fillna(df['ee'].mean(),inplace=True)\n",
    "display(df)"
   ]
  },
  {
   "cell_type": "markdown",
   "metadata": {},
   "source": [
    "<h3>Import Excel file</h3>"
   ]
  },
  {
   "cell_type": "code",
   "execution_count": 9,
   "metadata": {
    "collapsed": false
   },
   "outputs": [],
   "source": [
    "import pandas as pd\n",
    "import os\n",
    "path = r'C:\\myfolder'\n",
    "file = 'myfile.xlsx'\n",
    "df = pd.read_excel(os.path.join(path,file))"
   ]
  }
 ],
 "metadata": {
  "kernelspec": {
   "display_name": "Python 3",
   "language": "python",
   "name": "python3"
  },
  "language_info": {
   "codemirror_mode": {
    "name": "ipython",
    "version": 3
   },
   "file_extension": ".py",
   "mimetype": "text/x-python",
   "name": "python",
   "nbconvert_exporter": "python",
   "pygments_lexer": "ipython3",
   "version": "3.6.0"
  }
 },
 "nbformat": 4,
 "nbformat_minor": 2
}
